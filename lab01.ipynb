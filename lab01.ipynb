{
 "cells": [
  {
   "cell_type": "markdown",
   "id": "7b030395-ff9d-488b-893a-3f2925d07a29",
   "metadata": {},
   "source": [
    "# BEE 4750 Lab 1: Julia and GitHub Basics\n",
    "\n",
    "**Name**:\n",
    "\n",
    "**ID**:\n",
    "\n",
    "> **Due Date**\n",
    ">\n",
    "> Wednesday, 8/28/24, 9:00pm\n",
    "\n",
    "## Setup\n",
    "\n",
    "The following code should go at the top of most Julia scripts; it will\n",
    "load the local package environment and install any needed packages. You\n",
    "will see this often and shouldn’t need to touch it."
   ]
  },
  {
   "cell_type": "code",
   "execution_count": 4,
   "id": "d1ce768d-5656-4db6-9f78-d69c901d0b0e",
   "metadata": {},
   "outputs": [
    {
     "name": "stderr",
     "output_type": "stream",
     "text": [
      "\u001b[32m\u001b[1m  Activating\u001b[22m\u001b[39m project at `c:\\Users\\26410\\Desktop\\Environment A\\lab01`\n"
     ]
    }
   ],
   "source": [
    "import Pkg\n",
    "Pkg.activate(\".\")\n",
    "Pkg.instantiate()"
   ]
  },
  {
   "cell_type": "markdown",
   "id": "b0c0f53b-93bc-4baa-8b0e-bdb58e8ff961",
   "metadata": {},
   "source": [
    "This next cell loads packages which are required for the rest of the\n",
    "code evaluation. In this case, we only need to load the `Plots.jl`\n",
    "plotting package, but you will see others over the course of the\n",
    "semester (and can add more if desired; just make sure that you’ve [added\n",
    "the new packages to the\n",
    "environment](https://viveks.me/environmental-systems-analysis/tutorials/julia-basics.html#package-management)).\n",
    "Standard Julia practice is to load all of the needed packages at the top\n",
    "of the file.\n",
    "\n",
    "> **Warning**\n",
    ">\n",
    "> Loading packages can take a while, especially the first time! Julia\n",
    "> tries to precompile all of the packages you’re using so repeat use is\n",
    "> faster, but this can be quite slow at first."
   ]
  },
  {
   "cell_type": "code",
   "execution_count": 5,
   "id": "4",
   "metadata": {},
   "outputs": [],
   "source": [
    "using Plots"
   ]
  },
  {
   "cell_type": "markdown",
   "id": "6d2bc421-d992-4864-a390-fd6d7820f6c0",
   "metadata": {},
   "source": [
    "## Introduction\n",
    "\n",
    "### Julia\n",
    "\n",
    "Julia is an up-and-coming language, originally developed for scientific\n",
    "programming. While learning a new programming language always has its\n",
    "hiccups, the good news is that if you’ve programmed in a high-level\n",
    "language such as Python or MATLAB, most Julia concepts should look\n",
    "familiar.\n",
    "\n",
    "If you have not successfully set up Julia, follow the instructions in\n",
    "[Tools\n",
    "Setup](https://viveks.me/environmental-systems-analysis/setup.html)\n",
    "and/or ask for help.\n",
    "\n",
    "You can use other editors for this course, but our recommendation is\n",
    "[Visual Studio Code](https://code.visualstudio.com/) with the [Julia\n",
    "extension](https://marketplace.visualstudio.com/items?itemName=julialang.language-julia),\n",
    "which will make life a *lot* simpler! You should have set this up by\n",
    "following the [Tools\n",
    "Setup](https://viveks.me/environmental-systems-analysis/setup.html)\n",
    "instructions, but if not, do so now and/or ask for help.\n",
    "\n",
    "### Jupyter Notebooks\n",
    "\n",
    "Jupyter notebooks integrate text and equations in Markdown with Julia\n",
    "(or Python, or R) code. To do this, Jupyter notebooks consist of two\n",
    "types of “cells”: code cells and Markdown (text) cells.\n",
    "\n",
    "Click once on this section of text. A box will appear around this text\n",
    "(and some areas above/below it) - all of that is within this cell.\n",
    "\n",
    "Markdown is a text markup framework for formatting language that makes\n",
    "things look pretty when viewed across different platforms: web browsers,\n",
    "notebooks, and so forth. Text written in Markdown can also include\n",
    "hyperlinks, LaTeX equations, section headers, and images, among other\n",
    "features (most of [the course\n",
    "website](https://viveks.me/climate-risk-analysis) and the lecture notes\n",
    "were all written in Markdown!). [Here is a basic Markdown cheat\n",
    "sheet](https://www.markdownguide.org/cheat-sheet/).\n",
    "\n",
    "What you are looking at right now is the formatted text after the\n",
    "Markdown is processed. To see the raw Markdown, do one of:\n",
    "\n",
    "-   press `Enter` while that cell is selected, or\n",
    "-   double-click on that cell.\n",
    "\n",
    "------------------------------------------------------------------------\n",
    "\n",
    "A couple of the features you will see in this Markdown cell:\n",
    "\n",
    "-   The `---` command creates a horizontal line. This is also nice for\n",
    "    separating sections.\n",
    "-   Backticks (`` `...` ``) can be used to format and highlight code,\n",
    "    keystrokes, etc.\n",
    "-   The `#` sign is used to create a new section header; two `#` signs\n",
    "    (`##`) is used to create a new subsection header; `###` creates a\n",
    "    subsubsection, and so on.\n",
    "-   You can create a bulleted list by using the asterisk `*` or a dash\n",
    "    `-` and a space.\n",
    "-   You can create regular text by just typing as usual.\n",
    "-   You can create **bold-faced text** by wrapping it with two asterisks\n",
    "    on both sides.\n",
    "-   You can create *italicized text* by wrapping it with a single\n",
    "    asterisk on both sides.\n",
    "-   To create a new paragraph, you must include a blank line between the\n",
    "    old and new paragraphs.\n",
    "\n",
    "At this point you might be wondering how to turn this cell back into the\n",
    "fully formatted Markdown text instead of the raw Markdown you’re\n",
    "probably still looking at. You have a couple of options, depending on\n",
    "your platform, but the most consistent is to type `Shift + Enter` to\n",
    "**execute** the cell (this is also how to run code, but more on that\n",
    "later).\n",
    "\n",
    "Additionally, you will frequently need to create new cells in your\n",
    "Jupyter notebooks. How you do this will depend on how you interact with\n",
    "the notebook, but try to figure this out now.\n",
    "\n",
    "One tip is to think carefully about what bits of code should be in the\n",
    "same cell, as you typically only see output from the last command in a\n",
    "cell. For example, compare the following:"
   ]
  },
  {
   "cell_type": "code",
   "execution_count": 1,
   "id": "6",
   "metadata": {},
   "outputs": [
    {
     "data": {
      "text/plain": [
       "-0.9589242746631385"
      ]
     },
     "metadata": {},
     "output_type": "display_data"
    }
   ],
   "source": [
    "x = 5\n",
    "sin(x)"
   ]
  },
  {
   "cell_type": "markdown",
   "id": "0b56a2f1-81e8-4426-b62a-95cfc3933b92",
   "metadata": {},
   "source": [
    "with"
   ]
  },
  {
   "cell_type": "code",
   "execution_count": 2,
   "id": "8",
   "metadata": {},
   "outputs": [
    {
     "data": {
      "text/plain": [
       "5"
      ]
     },
     "metadata": {},
     "output_type": "display_data"
    }
   ],
   "source": [
    "x = 5"
   ]
  },
  {
   "cell_type": "code",
   "execution_count": 1,
   "id": "10",
   "metadata": {},
   "outputs": [
    {
     "data": {
      "text/plain": [
       "-0.9589242746631385"
      ]
     },
     "metadata": {},
     "output_type": "display_data"
    }
   ],
   "source": [
    "sin(x)"
   ]
  },
  {
   "cell_type": "markdown",
   "id": "474d541d-93e6-47e1-874f-80abd6c9d7cc",
   "metadata": {},
   "source": [
    "In Julia, you can also suppress the output of a command with a\n",
    "semi-colon:"
   ]
  },
  {
   "cell_type": "code",
   "execution_count": 1,
   "id": "12",
   "metadata": {},
   "outputs": [],
   "source": [
    "sin(x);"
   ]
  },
  {
   "cell_type": "markdown",
   "id": "e5950d08-d04e-4fc7-bed8-33e0ee9a1909",
   "metadata": {},
   "source": [
    "which can help if you want to split some code out for clarity or to\n",
    "insert some text prior to it, but don’t want to clutter the notebook\n",
    "with its output.\n",
    "\n",
    "For code cells, to execute the commands within the cell, we also press\n",
    "`Shift+Enter`.\n",
    "\n",
    "Finally, **make sure that you evaluate all of the code cells in order\n",
    "before submitting**. One bad outcome with notebooks occurs when cells\n",
    "are evaluated out of order, so fixed bugs and edits in previous cells do\n",
    "not get a chance to propagate down. You can do this with the `Run All`\n",
    "command in whichever interface you’re using to edit your notebook.\n",
    "\n",
    "### Julia Basics\n",
    "\n",
    "There are many tutorials and references for Julia, including a [basics\n",
    "overview on the class website](../tutorials/julia-basics.html). Please\n",
    "feel free to reference these as you work through any part of the course.\n",
    "\n",
    "### Formatting Math\n",
    "\n",
    "It will often be helpful to include nicely-formatted mathematics in a\n",
    "notebook. Markdown accomodates this using LaTeX syntax. A LaTeX\n",
    "cheatsheet is available on the class website, and many other guides\n",
    "exist online.\n",
    "\n",
    "Below is an example of a formatted equation: $$x = 5.$$\n",
    "\n",
    "### Looking For Help\n",
    "\n",
    "There is no shame in using Google, or other resources, for help when\n",
    "programming. There are many, many times when you can’t quite get the\n",
    "syntax to work, can’t quite figure out the right package or command to\n",
    "use, or are feeling too lazy or overwhelmed (I’m not judging either of\n",
    "those!) to dig through the documentation. Some good resources include:\n",
    "\n",
    "-   [Stack Overflow](https://stackoverflow.com/) is a treasure trove of\n",
    "    answers;\n",
    "-   The [official Julia forum](https://discourse.julialang.org/) and the\n",
    "    [Julia Subreddit](https://www.reddit.com/r/Julia/) are also very\n",
    "    useful.\n",
    "\n",
    "You are also highly encouraged to post on [Ed\n",
    "Discussion](https://us.edstem.org), though getting a response might be\n",
    "less immediate. Just be mindful that to get good answers, [you have to\n",
    "help people help you](https://stackoverflow.com/help/how-to-ask), and\n",
    "**make sure to give credit to any resources that were helpful**!\n",
    "\n",
    "## Exercises (3 points)\n",
    "\n",
    "Use your understanding of Julia syntax and the GitHub workflow to\n",
    "complete the following (hopefully short) exercises. Convert your\n",
    "completed lab assignment to a PDF and submit it to the Gradescope\n",
    "Assignment “Lab 1”.\n",
    "\n",
    "**Remember to**:\n",
    "\n",
    "-   Include a (succint but clear) writeup of the core idea underlying\n",
    "    your code, through some combination of equations, text, and\n",
    "    algorithms. As you are not required to submit your code, we will not\n",
    "    be looking at it in detail, and instead will rely on those writeups\n",
    "    to assess whether your approach is correct.\n",
    "-   If using the notebook, evaluate all of your code cells, in order\n",
    "    (using a `Run All` command). This will make sure all output is\n",
    "    visible and that the code cells were evaluated in the correct order.\n",
    "-   Tag each of the problems when you submit to Gradescope; a 10%\n",
    "    penalty will be deducted if this is not done.\n",
    "\n",
    "### Computing a Dot Product\n",
    "\n",
    "Given two numeric arrays `x` and `y`, write a function to compute their\n",
    "dot product if they have equal length, and return an error if not (this\n",
    "is useful for debugging!). Use the following code as a starting point."
   ]
  },
  {
   "cell_type": "code",
   "execution_count": 9,
   "id": "896f82c7",
   "metadata": {},
   "outputs": [],
   "source": [
    "using LinearAlgebra"
   ]
  },
  {
   "cell_type": "code",
   "execution_count": 10,
   "id": "14",
   "metadata": {},
   "outputs": [
    {
     "data": {
      "text/plain": [
       "dot_product (generic function with 1 method)"
      ]
     },
     "metadata": {},
     "output_type": "display_data"
    }
   ],
   "source": [
    "function dot_product(x, y)\n",
    "    if  length(x)==length(y)\n",
    "        println(dot(x,y))\n",
    "    else\n",
    "        throw(DimensionMismatch(\"length of x not equal to length of y\"))\n",
    "    end\n",
    "end"
   ]
  },
  {
   "cell_type": "markdown",
   "id": "e0ce47a6-a5e8-4cd8-a776-5b04adfa6330",
   "metadata": {},
   "source": [
    "Here are some tests to make sure your code works as intended. Tests like\n",
    "these are useful to make sure everything works as intended. One reason\n",
    "to split your code up into functions is that it makes it straightforward\n",
    "to write tests to make sure each piece of your code works, which makes\n",
    "it easier to identify where errors are occuring."
   ]
  },
  {
   "cell_type": "code",
   "execution_count": 11,
   "id": "16",
   "metadata": {},
   "outputs": [
    {
     "name": "stdout",
     "output_type": "stream",
     "text": [
      "32\n"
     ]
    }
   ],
   "source": [
    "dot_product([1 2 3], [4 5 6])"
   ]
  },
  {
   "cell_type": "markdown",
   "id": "37f85171-25e8-4513-b57c-af25ff4378e7",
   "metadata": {},
   "source": [
    "If you know the value you should get, you can write a more formal test\n",
    "using the `@assert` macro, which is a good way to “automate” checking\n",
    "(since you get an obvious error if the code doesn’t work as desired):"
   ]
  },
  {
   "cell_type": "code",
   "execution_count": 12,
   "id": "18",
   "metadata": {},
   "outputs": [
    {
     "name": "stdout",
     "output_type": "stream",
     "text": [
      "32\n"
     ]
    },
    {
     "ename": "AssertionError",
     "evalue": "AssertionError: dot_product([1 2 3], [4 5 6]) == 32",
     "output_type": "error",
     "traceback": [
      "AssertionError: dot_product([1 2 3], [4 5 6]) == 32\n",
      "\n",
      "Stacktrace:\n",
      " [1] top-level scope\n",
      "   @ c:\\Users\\26410\\Desktop\\Environment A\\lab01\\jl_notebook_cell_df34fa98e69747e1a8f8a730347b8e2f_X22sZmlsZQ==.jl:1"
     ]
    }
   ],
   "source": [
    "@assert dot_product([1 2 3], [4 5 6]) == 32"
   ]
  },
  {
   "cell_type": "markdown",
   "id": "65ccdcd8-449e-4f0c-8f4e-7953ea267f8d",
   "metadata": {},
   "source": [
    "Let’s also make sure we get an error when the dimensions of the two\n",
    "vectors don’t match:"
   ]
  },
  {
   "cell_type": "code",
   "execution_count": 17,
   "id": "20",
   "metadata": {},
   "outputs": [
    {
     "ename": "DimensionMismatch",
     "evalue": "DimensionMismatch: length of x not equal to length of y",
     "output_type": "error",
     "traceback": [
      "DimensionMismatch: length of x not equal to length of y\n",
      "\n",
      "Stacktrace:\n",
      " [1] dot_product(x::Matrix{Int64}, y::Matrix{Int64})\n",
      "   @ Main c:\\Users\\26410\\Desktop\\Environment A\\lab01\\jl_notebook_cell_df34fa98e69747e1a8f8a730347b8e2f_X15sZmlsZQ==.jl:5\n",
      " [2] top-level scope\n",
      "   @ c:\\Users\\26410\\Desktop\\Environment A\\lab01\\jl_notebook_cell_df34fa98e69747e1a8f8a730347b8e2f_X24sZmlsZQ==.jl:1"
     ]
    }
   ],
   "source": [
    "dot_product([1 2 3], [4 5])"
   ]
  },
  {
   "cell_type": "markdown",
   "id": "8c069a05-159a-43b4-aa3f-d1fec9a2f727",
   "metadata": {},
   "source": [
    "### Making a Plot\n",
    "\n",
    "Write a function to compute the square of an integer `x`. Evaluate this\n",
    "function for integers between $x=-5$ and $x=5$ and make a plot of the\n",
    "squared values (you can find a quick guide to making various types of\n",
    "plots\n",
    "[here](https://viveks.me/environmental-systems-analysis/tutorials/julia-plots.html)).\n",
    "Make sure to label your axes."
   ]
  },
  {
   "cell_type": "code",
   "execution_count": 14,
   "id": "22",
   "metadata": {},
   "outputs": [
    {
     "data": {
      "text/plain": [
       "sq (generic function with 1 method)"
      ]
     },
     "metadata": {},
     "output_type": "display_data"
    }
   ],
   "source": [
    "# insert your code here\n",
    "function sq(x::Int)\n",
    "    return x^2\n",
    "end"
   ]
  },
  {
   "cell_type": "code",
   "execution_count": 16,
   "id": "72af6698",
   "metadata": {},
   "outputs": [
    {
     "data": {
      "image/png": "[encoded data removed]",
      "image/svg+xml": [
       "<?xml version=\"1.0\" encoding=\"utf-8\"?>\n",
       "<svg xmlns=\"http://www.w3.org/2000/svg\" xmlns:xlink=\"http://www.w3.org/1999/xlink\" width=\"600\" height=\"400\" viewBox=\"0 0 2400 1600\">\n",
       "<defs>\n",
       "  <clipPath id=\"clip550\">\n",
       "    <rect x=\"0\" y=\"0\" width=\"2400\" height=\"1600\"/>\n",
       "  </clipPath>\n",
       "</defs>\n",
       "<path clip-path=\"url(#clip550)\" d=\"M0 1600 L2400 1600 L2400 0 L0 0  Z\" fill=\"#ffffff\" fill-rule=\"evenodd\" fill-opacity=\"1\"/>\n",
       "<defs>\n",
       "  <clipPath id=\"clip551\">\n",
       "    <rect x=\"480\" y=\"0\" width=\"1681\" height=\"1600\"/>\n",
       "  </clipPath>\n",
       "</defs>\n",
       "<path clip-path=\"url(#clip550)\" d=\"M203.964 1423.18 L2352.76 1423.18 L2352.76 123.472 L203.964 123.472  Z\" fill=\"#ffffff\" fill-rule=\"evenodd\" fill-opacity=\"1\"/>\n",
       "<defs>\n",
       "  <clipPath id=\"clip552\">\n",
       "    <rect x=\"203\" y=\"123\" width=\"2150\" height=\"1301\"/>\n",
       "  </clipPath>\n",
       "</defs>\n",
       "<polyline clip-path=\"url(#clip552)\" style=\"stroke:#000000; stroke-linecap:round; stroke-linejoin:round; stroke-width:2; stroke-opacity:0.1; fill:none\" points=\"467.495,1423.18 467.495,123.472 \"/>\n",
       "<polyline clip-path=\"url(#clip552)\" style=\"stroke:#000000; stroke-linecap:round; stroke-linejoin:round; stroke-width:2; stroke-opacity:0.1; fill:none\" points=\"872.927,1423.18 872.927,123.472 \"/>\n",
       "<polyline clip-path=\"url(#clip552)\" style=\"stroke:#000000; stroke-linecap:round; stroke-linejoin:round; stroke-width:2; stroke-opacity:0.1; fill:none\" points=\"1278.36,1423.18 1278.36,123.472 \"/>\n",
       "<polyline clip-path=\"url(#clip552)\" style=\"stroke:#000000; stroke-linecap:round; stroke-linejoin:round; stroke-width:2; stroke-opacity:0.1; fill:none\" points=\"1683.79,1423.18 1683.79,123.472 \"/>\n",
       "<polyline clip-path=\"url(#clip552)\" style=\"stroke:#000000; stroke-linecap:round; stroke-linejoin:round; stroke-width:2; stroke-opacity:0.1; fill:none\" points=\"2089.22,1423.18 2089.22,123.472 \"/>\n",
       "<polyline clip-path=\"url(#clip550)\" style=\"stroke:#000000; stroke-linecap:round; stroke-linejoin:round; stroke-width:4; stroke-opacity:1; fill:none\" points=\"203.964,1423.18 2352.76,1423.18 \"/>\n",
       "<polyline clip-path=\"url(#clip550)\" style=\"stroke:#000000; stroke-linecap:round; stroke-linejoin:round; stroke-width:4; stroke-opacity:1; fill:none\" points=\"467.495,1423.18 467.495,1404.28 \"/>\n",
       "<polyline clip-path=\"url(#clip550)\" style=\"stroke:#000000; stroke-linecap:round; stroke-linejoin:round; stroke-width:4; stroke-opacity:1; fill:none\" points=\"872.927,1423.18 872.927,1404.28 \"/>\n",
       "<polyline clip-path=\"url(#clip550)\" style=\"stroke:#000000; stroke-linecap:round; stroke-linejoin:round; stroke-width:4; stroke-opacity:1; fill:none\" points=\"1278.36,1423.18 1278.36,1404.28 \"/>\n",
       "<polyline clip-path=\"url(#clip550)\" style=\"stroke:#000000; stroke-linecap:round; stroke-linejoin:round; stroke-width:4; stroke-opacity:1; fill:none\" points=\"1683.79,1423.18 1683.79,1404.28 \"/>\n",
       "<polyline clip-path=\"url(#clip550)\" style=\"stroke:#000000; stroke-linecap:round; stroke-linejoin:round; stroke-width:4; stroke-opacity:1; fill:none\" points=\"2089.22,1423.18 2089.22,1404.28 \"/>\n",
       "<path clip-path=\"url(#clip550)\" d=\"M436.395 1468.75 L466.071 1468.75 L466.071 1472.69 L436.395 1472.69 L436.395 1468.75 Z\" fill=\"#000000\" fill-rule=\"nonzero\" fill-opacity=\"1\" /><path clip-path=\"url(#clip550)\" d=\"M489.011 1455.09 L477.205 1473.54 L489.011 1473.54 L489.011 1455.09 M487.784 1451.02 L493.664 1451.02 L493.664 1473.54 L498.594 1473.54 L498.594 1477.43 L493.664 1477.43 L493.664 1485.58 L489.011 1485.58 L489.011 1477.43 L473.409 1477.43 L473.409 1472.92 L487.784 1451.02 Z\" fill=\"#000000\" fill-rule=\"nonzero\" fill-opacity=\"1\" /><path clip-path=\"url(#clip550)\" d=\"M842.87 1468.75 L872.545 1468.75 L872.545 1472.69 L842.87 1472.69 L842.87 1468.75 Z\" fill=\"#000000\" fill-rule=\"nonzero\" fill-opacity=\"1\" /><path clip-path=\"url(#clip550)\" d=\"M886.666 1481.64 L902.985 1481.64 L902.985 1485.58 L881.041 1485.58 L881.041 1481.64 Q883.703 1478.89 888.286 1474.26 Q892.892 1469.61 894.073 1468.27 Q896.318 1465.74 897.198 1464.01 Q898.101 1462.25 898.101 1460.56 Q898.101 1457.8 896.156 1456.07 Q894.235 1454.33 891.133 1454.33 Q888.934 1454.33 886.48 1455.09 Q884.05 1455.86 881.272 1457.41 L881.272 1452.69 Q884.096 1451.55 886.55 1450.97 Q889.004 1450.39 891.041 1450.39 Q896.411 1450.39 899.605 1453.08 Q902.8 1455.77 902.8 1460.26 Q902.8 1462.39 901.99 1464.31 Q901.203 1466.2 899.096 1468.8 Q898.517 1469.47 895.416 1472.69 Q892.314 1475.88 886.666 1481.64 Z\" fill=\"#000000\" fill-rule=\"nonzero\" fill-opacity=\"1\" /><path clip-path=\"url(#clip550)\" d=\"M1278.36 1454.1 Q1274.75 1454.1 1272.92 1457.66 Q1271.11 1461.2 1271.11 1468.33 Q1271.11 1475.44 1272.92 1479.01 Q1274.75 1482.55 1278.36 1482.55 Q1281.99 1482.55 1283.8 1479.01 Q1285.63 1475.44 1285.63 1468.33 Q1285.63 1461.2 1283.8 1457.66 Q1281.99 1454.1 1278.36 1454.1 M1278.36 1450.39 Q1284.17 1450.39 1287.23 1455 Q1290.3 1459.58 1290.3 1468.33 Q1290.3 1477.06 1287.23 1481.67 Q1284.17 1486.25 1278.36 1486.25 Q1272.55 1486.25 1269.47 1481.67 Q1266.42 1477.06 1266.42 1468.33 Q1266.42 1459.58 1269.47 1455 Q1272.55 1450.39 1278.36 1450.39 Z\" fill=\"#000000\" fill-rule=\"nonzero\" fill-opacity=\"1\" /><path clip-path=\"url(#clip550)\" d=\"M1678.45 1481.64 L1694.76 1481.64 L1694.76 1485.58 L1672.82 1485.58 L1672.82 1481.64 Q1675.48 1478.89 1680.07 1474.26 Q1684.67 1469.61 1685.85 1468.27 Q1688.1 1465.74 1688.98 1464.01 Q1689.88 1462.25 1689.88 1460.56 Q1689.88 1457.8 1687.94 1456.07 Q1686.01 1454.33 1682.91 1454.33 Q1680.71 1454.33 1678.26 1455.09 Q1675.83 1455.86 1673.05 1457.41 L1673.05 1452.69 Q1675.88 1451.55 1678.33 1450.97 Q1680.78 1450.39 1682.82 1450.39 Q1688.19 1450.39 1691.38 1453.08 Q1694.58 1455.77 1694.58 1460.26 Q1694.58 1462.39 1693.77 1464.31 Q1692.98 1466.2 1690.88 1468.8 Q1690.3 1469.47 1687.2 1472.69 Q1684.09 1475.88 1678.45 1481.64 Z\" fill=\"#000000\" fill-rule=\"nonzero\" fill-opacity=\"1\" /><path clip-path=\"url(#clip550)\" d=\"M2092.23 1455.09 L2080.43 1473.54 L2092.23 1473.54 L2092.23 1455.09 M2091.01 1451.02 L2096.89 1451.02 L2096.89 1473.54 L2101.82 1473.54 L2101.82 1477.43 L2096.89 1477.43 L2096.89 1485.58 L2092.23 1485.58 L2092.23 1477.43 L2076.63 1477.43 L2076.63 1472.92 L2091.01 1451.02 Z\" fill=\"#000000\" fill-rule=\"nonzero\" fill-opacity=\"1\" /><path clip-path=\"url(#clip550)\" d=\"M1294.97 1532.4 L1282.08 1549.74 L1295.64 1568.04 L1288.74 1568.04 L1278.36 1554.04 L1267.98 1568.04 L1261.08 1568.04 L1274.92 1549.39 L1262.25 1532.4 L1269.16 1532.4 L1278.61 1545.1 L1288.07 1532.4 L1294.97 1532.4 Z\" fill=\"#000000\" fill-rule=\"nonzero\" fill-opacity=\"1\" /><polyline clip-path=\"url(#clip552)\" style=\"stroke:#000000; stroke-linecap:round; stroke-linejoin:round; stroke-width:2; stroke-opacity:0.1; fill:none\" points=\"203.964,1386.4 2352.76,1386.4 \"/>\n",
       "<polyline clip-path=\"url(#clip552)\" style=\"stroke:#000000; stroke-linecap:round; stroke-linejoin:round; stroke-width:2; stroke-opacity:0.1; fill:none\" points=\"203.964,1141.17 2352.76,1141.17 \"/>\n",
       "<polyline clip-path=\"url(#clip552)\" style=\"stroke:#000000; stroke-linecap:round; stroke-linejoin:round; stroke-width:2; stroke-opacity:0.1; fill:none\" points=\"203.964,895.94 2352.76,895.94 \"/>\n",
       "<polyline clip-path=\"url(#clip552)\" style=\"stroke:#000000; stroke-linecap:round; stroke-linejoin:round; stroke-width:2; stroke-opacity:0.1; fill:none\" points=\"203.964,650.712 2352.76,650.712 \"/>\n",
       "<polyline clip-path=\"url(#clip552)\" style=\"stroke:#000000; stroke-linecap:round; stroke-linejoin:round; stroke-width:2; stroke-opacity:0.1; fill:none\" points=\"203.964,405.484 2352.76,405.484 \"/>\n",
       "<polyline clip-path=\"url(#clip552)\" style=\"stroke:#000000; stroke-linecap:round; stroke-linejoin:round; stroke-width:2; stroke-opacity:0.1; fill:none\" points=\"203.964,160.256 2352.76,160.256 \"/>\n",
       "<polyline clip-path=\"url(#clip550)\" style=\"stroke:#000000; stroke-linecap:round; stroke-linejoin:round; stroke-width:4; stroke-opacity:1; fill:none\" points=\"203.964,1423.18 203.964,123.472 \"/>\n",
       "<polyline clip-path=\"url(#clip550)\" style=\"stroke:#000000; stroke-linecap:round; stroke-linejoin:round; stroke-width:4; stroke-opacity:1; fill:none\" points=\"203.964,1386.4 222.861,1386.4 \"/>\n",
       "<polyline clip-path=\"url(#clip550)\" style=\"stroke:#000000; stroke-linecap:round; stroke-linejoin:round; stroke-width:4; stroke-opacity:1; fill:none\" points=\"203.964,1141.17 222.861,1141.17 \"/>\n",
       "<polyline clip-path=\"url(#clip550)\" style=\"stroke:#000000; stroke-linecap:round; stroke-linejoin:round; stroke-width:4; stroke-opacity:1; fill:none\" points=\"203.964,895.94 222.861,895.94 \"/>\n",
       "<polyline clip-path=\"url(#clip550)\" style=\"stroke:#000000; stroke-linecap:round; stroke-linejoin:round; stroke-width:4; stroke-opacity:1; fill:none\" points=\"203.964,650.712 222.861,650.712 \"/>\n",
       "<polyline clip-path=\"url(#clip550)\" style=\"stroke:#000000; stroke-linecap:round; stroke-linejoin:round; stroke-width:4; stroke-opacity:1; fill:none\" points=\"203.964,405.484 222.861,405.484 \"/>\n",
       "<polyline clip-path=\"url(#clip550)\" style=\"stroke:#000000; stroke-linecap:round; stroke-linejoin:round; stroke-width:4; stroke-opacity:1; fill:none\" points=\"203.964,160.256 222.861,160.256 \"/>\n",
       "<path clip-path=\"url(#clip550)\" d=\"M156.019 1372.19 Q152.408 1372.19 150.579 1375.76 Q148.774 1379.3 148.774 1386.43 Q148.774 1393.54 150.579 1397.1 Q152.408 1400.64 156.019 1400.64 Q159.653 1400.64 161.459 1397.1 Q163.288 1393.54 163.288 1386.43 Q163.288 1379.3 161.459 1375.76 Q159.653 1372.19 156.019 1372.19 M156.019 1368.49 Q161.829 1368.49 164.885 1373.1 Q167.964 1377.68 167.964 1386.43 Q167.964 1395.16 164.885 1399.76 Q161.829 1404.35 156.019 1404.35 Q150.209 1404.35 147.13 1399.76 Q144.075 1395.16 144.075 1386.43 Q144.075 1377.68 147.13 1373.1 Q150.209 1368.49 156.019 1368.49 Z\" fill=\"#000000\" fill-rule=\"nonzero\" fill-opacity=\"1\" /><path clip-path=\"url(#clip550)\" d=\"M147.061 1123.89 L165.417 1123.89 L165.417 1127.82 L151.343 1127.82 L151.343 1136.3 Q152.362 1135.95 153.38 1135.79 Q154.399 1135.6 155.417 1135.6 Q161.204 1135.6 164.584 1138.77 Q167.964 1141.94 167.964 1147.36 Q167.964 1152.94 164.491 1156.04 Q161.019 1159.12 154.7 1159.12 Q152.524 1159.12 150.255 1158.75 Q148.01 1158.38 145.603 1157.64 L145.603 1152.94 Q147.686 1154.07 149.908 1154.63 Q152.13 1155.18 154.607 1155.18 Q158.612 1155.18 160.95 1153.08 Q163.288 1150.97 163.288 1147.36 Q163.288 1143.75 160.95 1141.64 Q158.612 1139.54 154.607 1139.54 Q152.732 1139.54 150.857 1139.95 Q149.005 1140.37 147.061 1141.25 L147.061 1123.89 Z\" fill=\"#000000\" fill-rule=\"nonzero\" fill-opacity=\"1\" /><path clip-path=\"url(#clip550)\" d=\"M116.668 909.285 L124.306 909.285 L124.306 882.919 L115.996 884.586 L115.996 880.327 L124.26 878.66 L128.936 878.66 L128.936 909.285 L136.575 909.285 L136.575 913.22 L116.668 913.22 L116.668 909.285 Z\" fill=\"#000000\" fill-rule=\"nonzero\" fill-opacity=\"1\" /><path clip-path=\"url(#clip550)\" d=\"M156.019 881.739 Q152.408 881.739 150.579 885.303 Q148.774 888.845 148.774 895.975 Q148.774 903.081 150.579 906.646 Q152.408 910.188 156.019 910.188 Q159.653 910.188 161.459 906.646 Q163.288 903.081 163.288 895.975 Q163.288 888.845 161.459 885.303 Q159.653 881.739 156.019 881.739 M156.019 878.035 Q161.829 878.035 164.885 882.641 Q167.964 887.225 167.964 895.975 Q167.964 904.701 164.885 909.308 Q161.829 913.891 156.019 913.891 Q150.209 913.891 147.13 909.308 Q144.075 904.701 144.075 895.975 Q144.075 887.225 147.13 882.641 Q150.209 878.035 156.019 878.035 Z\" fill=\"#000000\" fill-rule=\"nonzero\" fill-opacity=\"1\" /><path clip-path=\"url(#clip550)\" d=\"M117.663 664.057 L125.302 664.057 L125.302 637.691 L116.992 639.358 L116.992 635.099 L125.255 633.432 L129.931 633.432 L129.931 664.057 L137.57 664.057 L137.57 667.992 L117.663 667.992 L117.663 664.057 Z\" fill=\"#000000\" fill-rule=\"nonzero\" fill-opacity=\"1\" /><path clip-path=\"url(#clip550)\" d=\"M147.061 633.432 L165.417 633.432 L165.417 637.367 L151.343 637.367 L151.343 645.839 Q152.362 645.492 153.38 645.33 Q154.399 645.145 155.417 645.145 Q161.204 645.145 164.584 648.316 Q167.964 651.488 167.964 656.904 Q167.964 662.483 164.491 665.585 Q161.019 668.663 154.7 668.663 Q152.524 668.663 150.255 668.293 Q148.01 667.923 145.603 667.182 L145.603 662.483 Q147.686 663.617 149.908 664.173 Q152.13 664.728 154.607 664.728 Q158.612 664.728 160.95 662.622 Q163.288 660.515 163.288 656.904 Q163.288 653.293 160.95 651.187 Q158.612 649.08 154.607 649.08 Q152.732 649.08 150.857 649.497 Q149.005 649.913 147.061 650.793 L147.061 633.432 Z\" fill=\"#000000\" fill-rule=\"nonzero\" fill-opacity=\"1\" /><path clip-path=\"url(#clip550)\" d=\"M119.885 418.829 L136.204 418.829 L136.204 422.764 L114.26 422.764 L114.26 418.829 Q116.922 416.074 121.505 411.445 Q126.112 406.792 127.292 405.449 Q129.538 402.926 130.417 401.19 Q131.32 399.431 131.32 397.741 Q131.32 394.987 129.376 393.25 Q127.455 391.514 124.353 391.514 Q122.154 391.514 119.7 392.278 Q117.269 393.042 114.492 394.593 L114.492 389.871 Q117.316 388.737 119.769 388.158 Q122.223 387.579 124.26 387.579 Q129.63 387.579 132.825 390.264 Q136.019 392.95 136.019 397.44 Q136.019 399.57 135.209 401.491 Q134.422 403.389 132.316 405.982 Q131.737 406.653 128.635 409.871 Q125.533 413.065 119.885 418.829 Z\" fill=\"#000000\" fill-rule=\"nonzero\" fill-opacity=\"1\" /><path clip-path=\"url(#clip550)\" d=\"M156.019 391.283 Q152.408 391.283 150.579 394.848 Q148.774 398.389 148.774 405.519 Q148.774 412.625 150.579 416.19 Q152.408 419.732 156.019 419.732 Q159.653 419.732 161.459 416.19 Q163.288 412.625 163.288 405.519 Q163.288 398.389 161.459 394.848 Q159.653 391.283 156.019 391.283 M156.019 387.579 Q161.829 387.579 164.885 392.186 Q167.964 396.769 167.964 405.519 Q167.964 414.246 164.885 418.852 Q161.829 423.435 156.019 423.435 Q150.209 423.435 147.13 418.852 Q144.075 414.246 144.075 405.519 Q144.075 396.769 147.13 392.186 Q150.209 387.579 156.019 387.579 Z\" fill=\"#000000\" fill-rule=\"nonzero\" fill-opacity=\"1\" /><path clip-path=\"url(#clip550)\" d=\"M120.88 173.601 L137.2 173.601 L137.2 177.536 L115.256 177.536 L115.256 173.601 Q117.918 170.847 122.501 166.217 Q127.107 161.564 128.288 160.222 Q130.533 157.698 131.413 155.962 Q132.316 154.203 132.316 152.513 Q132.316 149.759 130.371 148.023 Q128.45 146.286 125.348 146.286 Q123.149 146.286 120.695 147.05 Q118.265 147.814 115.487 149.365 L115.487 144.643 Q118.311 143.509 120.765 142.93 Q123.218 142.351 125.255 142.351 Q130.626 142.351 133.82 145.036 Q137.015 147.722 137.015 152.212 Q137.015 154.342 136.204 156.263 Q135.417 158.161 133.311 160.754 Q132.732 161.425 129.63 164.643 Q126.529 167.837 120.88 173.601 Z\" fill=\"#000000\" fill-rule=\"nonzero\" fill-opacity=\"1\" /><path clip-path=\"url(#clip550)\" d=\"M147.061 142.976 L165.417 142.976 L165.417 146.911 L151.343 146.911 L151.343 155.384 Q152.362 155.036 153.38 154.874 Q154.399 154.689 155.417 154.689 Q161.204 154.689 164.584 157.86 Q167.964 161.032 167.964 166.448 Q167.964 172.027 164.491 175.129 Q161.019 178.208 154.7 178.208 Q152.524 178.208 150.255 177.837 Q148.01 177.467 145.603 176.726 L145.603 172.027 Q147.686 173.161 149.908 173.717 Q152.13 174.272 154.607 174.272 Q158.612 174.272 160.95 172.166 Q163.288 170.059 163.288 166.448 Q163.288 162.837 160.95 160.731 Q158.612 158.624 154.607 158.624 Q152.732 158.624 150.857 159.041 Q149.005 159.458 147.061 160.337 L147.061 142.976 Z\" fill=\"#000000\" fill-rule=\"nonzero\" fill-opacity=\"1\" /><path clip-path=\"url(#clip550)\" d=\"M67.3143 771.639 Q73.68 774.122 75.6216 776.477 Q77.5631 778.832 77.5631 782.779 L77.5631 787.458 L72.6615 787.458 L72.6615 784.02 Q72.6615 781.601 71.5157 780.265 Q70.3699 778.928 66.1048 777.305 L63.4312 776.254 L28.3562 790.673 L28.3562 784.466 L56.238 773.326 L28.3562 762.186 L28.3562 755.979 L67.3143 771.639 Z\" fill=\"#000000\" fill-rule=\"nonzero\" fill-opacity=\"1\" /><path clip-path=\"url(#clip550)\" d=\"M558.919 18.8205 L558.919 41.5461 L569.208 41.5461 Q574.92 41.5461 578.039 38.5889 Q581.159 35.6318 581.159 30.163 Q581.159 24.7348 578.039 21.7777 Q574.92 18.8205 569.208 18.8205 L558.919 18.8205 M550.736 12.096 L569.208 12.096 Q579.376 12.096 584.561 16.714 Q589.787 21.2916 589.787 30.163 Q589.787 39.1155 584.561 43.6931 Q579.376 48.2706 569.208 48.2706 L558.919 48.2706 L558.919 72.576 L550.736 72.576 L550.736 12.096 Z\" fill=\"#000000\" fill-rule=\"nonzero\" fill-opacity=\"1\" /><path clip-path=\"url(#clip550)\" d=\"M600.441 9.54393 L607.895 9.54393 L607.895 72.576 L600.441 72.576 L600.441 9.54393 Z\" fill=\"#000000\" fill-rule=\"nonzero\" fill-opacity=\"1\" /><path clip-path=\"url(#clip550)\" d=\"M641.071 32.4315 Q635.076 32.4315 631.592 37.1306 Q628.109 41.7891 628.109 49.9314 Q628.109 58.0738 631.552 62.7728 Q635.036 67.4314 641.071 67.4314 Q647.026 67.4314 650.51 62.7323 Q653.994 58.0333 653.994 49.9314 Q653.994 41.8701 650.51 37.1711 Q647.026 32.4315 641.071 32.4315 M641.071 26.1121 Q650.794 26.1121 656.343 32.4315 Q661.893 38.7509 661.893 49.9314 Q661.893 61.0714 656.343 67.4314 Q650.794 73.7508 641.071 73.7508 Q631.309 73.7508 625.759 67.4314 Q620.25 61.0714 620.25 49.9314 Q620.25 38.7509 625.759 32.4315 Q631.309 26.1121 641.071 26.1121 Z\" fill=\"#000000\" fill-rule=\"nonzero\" fill-opacity=\"1\" /><path clip-path=\"url(#clip550)\" d=\"M681.621 14.324 L681.621 27.2059 L696.974 27.2059 L696.974 32.9987 L681.621 32.9987 L681.621 57.6282 Q681.621 63.1779 683.12 64.7578 Q684.659 66.3376 689.318 66.3376 L696.974 66.3376 L696.974 72.576 L689.318 72.576 Q680.689 72.576 677.408 69.3758 Q674.127 66.1351 674.127 57.6282 L674.127 32.9987 L668.658 32.9987 L668.658 27.2059 L674.127 27.2059 L674.127 14.324 L681.621 14.324 Z\" fill=\"#000000\" fill-rule=\"nonzero\" fill-opacity=\"1\" /><path clip-path=\"url(#clip550)\" d=\"M750.729 32.4315 Q744.734 32.4315 741.25 37.1306 Q737.767 41.7891 737.767 49.9314 Q737.767 58.0738 741.21 62.7728 Q744.694 67.4314 750.729 67.4314 Q756.684 67.4314 760.168 62.7323 Q763.652 58.0333 763.652 49.9314 Q763.652 41.8701 760.168 37.1711 Q756.684 32.4315 750.729 32.4315 M750.729 26.1121 Q760.452 26.1121 766.001 32.4315 Q771.551 38.7509 771.551 49.9314 Q771.551 61.0714 766.001 67.4314 Q760.452 73.7508 750.729 73.7508 Q740.967 73.7508 735.417 67.4314 Q729.908 61.0714 729.908 49.9314 Q729.908 38.7509 735.417 32.4315 Q740.967 26.1121 750.729 26.1121 Z\" fill=\"#000000\" fill-rule=\"nonzero\" fill-opacity=\"1\" /><path clip-path=\"url(#clip550)\" d=\"M806.875 9.54393 L806.875 15.7418 L799.745 15.7418 Q795.735 15.7418 794.155 17.3622 Q792.616 18.9825 792.616 23.1955 L792.616 27.2059 L804.89 27.2059 L804.89 32.9987 L792.616 32.9987 L792.616 72.576 L785.122 72.576 L785.122 32.9987 L777.992 32.9987 L777.992 27.2059 L785.122 27.2059 L785.122 24.0462 Q785.122 16.471 788.646 13.0277 Q792.17 9.54393 799.826 9.54393 L806.875 9.54393 Z\" fill=\"#000000\" fill-rule=\"nonzero\" fill-opacity=\"1\" /><path clip-path=\"url(#clip550)\" d=\"M868.408 28.5427 L868.408 35.5912 Q865.249 33.9709 861.846 33.1607 Q858.443 32.3505 854.797 32.3505 Q849.247 32.3505 846.452 34.0519 Q843.698 35.7533 843.698 39.156 Q843.698 41.7486 845.683 43.2475 Q847.668 44.7058 853.663 46.0426 L856.215 46.6097 Q864.155 48.3111 867.477 51.4303 Q870.839 54.509 870.839 60.0587 Q870.839 66.3781 865.816 70.0644 Q860.833 73.7508 852.083 73.7508 Q848.437 73.7508 844.467 73.0216 Q840.538 72.3329 836.163 70.9151 L836.163 63.2184 Q840.295 65.3654 844.305 66.4591 Q848.316 67.5124 852.245 67.5124 Q857.511 67.5124 860.347 65.73 Q863.183 63.9071 863.183 60.6258 Q863.183 57.5877 861.117 55.9673 Q859.091 54.3469 852.164 52.8481 L849.572 52.2405 Q842.644 50.7821 839.566 47.7845 Q836.487 44.7463 836.487 39.4801 Q836.487 33.0797 841.024 29.5959 Q845.561 26.1121 853.906 26.1121 Q858.038 26.1121 861.684 26.7198 Q865.33 27.3274 868.408 28.5427 Z\" fill=\"#000000\" fill-rule=\"nonzero\" fill-opacity=\"1\" /><path clip-path=\"url(#clip550)\" d=\"M887.164 49.9314 Q887.164 58.1548 890.526 62.8538 Q893.929 67.5124 899.843 67.5124 Q905.758 67.5124 909.16 62.8538 Q912.563 58.1548 912.563 49.9314 Q912.563 41.7081 909.16 37.0496 Q905.758 32.3505 899.843 32.3505 Q893.929 32.3505 890.526 37.0496 Q887.164 41.7081 887.164 49.9314 M912.563 65.7705 Q910.214 69.8214 906.608 71.8063 Q903.043 73.7508 898.02 73.7508 Q889.797 73.7508 884.612 67.1883 Q879.467 60.6258 879.467 49.9314 Q879.467 39.2371 884.612 32.6746 Q889.797 26.1121 898.02 26.1121 Q903.043 26.1121 906.608 28.0971 Q910.214 30.0415 912.563 34.0924 L912.563 27.2059 L920.017 27.2059 L920.017 89.8329 L912.563 89.8329 L912.563 65.7705 Z\" fill=\"#000000\" fill-rule=\"nonzero\" fill-opacity=\"1\" /><path clip-path=\"url(#clip550)\" d=\"M934.6 54.671 L934.6 27.2059 L942.054 27.2059 L942.054 54.3874 Q942.054 60.8284 944.565 64.0691 Q947.077 67.2693 952.1 67.2693 Q958.136 67.2693 961.62 63.421 Q965.144 59.5726 965.144 52.9291 L965.144 27.2059 L972.597 27.2059 L972.597 72.576 L965.144 72.576 L965.144 65.6084 Q962.43 69.7404 958.824 71.7658 Q955.26 73.7508 950.52 73.7508 Q942.702 73.7508 938.651 68.8897 Q934.6 64.0286 934.6 54.671 M953.356 26.1121 L953.356 26.1121 Z\" fill=\"#000000\" fill-rule=\"nonzero\" fill-opacity=\"1\" /><path clip-path=\"url(#clip550)\" d=\"M1008.57 49.7694 Q999.536 49.7694 996.052 51.8354 Q992.568 53.9013 992.568 58.8839 Q992.568 62.8538 995.161 65.2034 Q997.794 67.5124 1002.29 67.5124 Q1008.49 67.5124 1012.22 63.1374 Q1015.98 58.7219 1015.98 51.4303 L1015.98 49.7694 L1008.57 49.7694 M1023.44 46.6907 L1023.44 72.576 L1015.98 72.576 L1015.98 65.6895 Q1013.43 69.8214 1009.62 71.8063 Q1005.81 73.7508 1000.31 73.7508 Q993.338 73.7508 989.206 69.8619 Q985.115 65.9325 985.115 59.3701 Q985.115 51.7138 990.219 47.825 Q995.364 43.9361 1005.53 43.9361 L1015.98 43.9361 L1015.98 43.2069 Q1015.98 38.0623 1012.58 35.2672 Q1009.22 32.4315 1003.1 32.4315 Q999.212 32.4315 995.526 33.3632 Q991.839 34.295 988.437 36.1584 L988.437 29.2718 Q992.528 27.692 996.376 26.9223 Q1000.22 26.1121 1003.87 26.1121 Q1013.71 26.1121 1018.58 31.2163 Q1023.44 36.3204 1023.44 46.6907 Z\" fill=\"#000000\" fill-rule=\"nonzero\" fill-opacity=\"1\" /><path clip-path=\"url(#clip550)\" d=\"M1065.08 34.1734 Q1063.82 33.4443 1062.33 33.1202 Q1060.87 32.7556 1059.08 32.7556 Q1052.76 32.7556 1049.36 36.8875 Q1046 40.9789 1046 48.6757 L1046 72.576 L1038.51 72.576 L1038.51 27.2059 L1046 27.2059 L1046 34.2544 Q1048.35 30.1225 1052.12 28.1376 Q1055.88 26.1121 1061.27 26.1121 Q1062.04 26.1121 1062.97 26.2337 Q1063.9 26.3147 1065.04 26.5172 L1065.08 34.1734 Z\" fill=\"#000000\" fill-rule=\"nonzero\" fill-opacity=\"1\" /><path clip-path=\"url(#clip550)\" d=\"M1109.88 48.0275 L1109.88 51.6733 L1075.61 51.6733 Q1076.1 59.3701 1080.23 63.421 Q1084.4 67.4314 1091.82 67.4314 Q1096.11 67.4314 1100.12 66.3781 Q1104.17 65.3249 1108.14 63.2184 L1108.14 70.267 Q1104.13 71.9684 1099.92 72.8596 Q1095.7 73.7508 1091.37 73.7508 Q1080.51 73.7508 1074.15 67.4314 Q1067.83 61.1119 1067.83 50.3365 Q1067.83 39.1965 1073.83 32.6746 Q1079.87 26.1121 1090.07 26.1121 Q1099.23 26.1121 1104.54 32.0264 Q1109.88 37.9003 1109.88 48.0275 M1102.43 45.84 Q1102.35 39.7232 1098.99 36.0774 Q1095.66 32.4315 1090.15 32.4315 Q1083.92 32.4315 1080.15 35.9558 Q1076.42 39.4801 1075.86 45.8805 L1102.43 45.84 Z\" fill=\"#000000\" fill-rule=\"nonzero\" fill-opacity=\"1\" /><path clip-path=\"url(#clip550)\" d=\"M1171.46 9.54393 L1171.46 15.7418 L1164.33 15.7418 Q1160.32 15.7418 1158.74 17.3622 Q1157.2 18.9825 1157.2 23.1955 L1157.2 27.2059 L1169.47 27.2059 L1169.47 32.9987 L1157.2 32.9987 L1157.2 72.576 L1149.7 72.576 L1149.7 32.9987 L1142.57 32.9987 L1142.57 27.2059 L1149.7 27.2059 L1149.7 24.0462 Q1149.7 16.471 1153.23 13.0277 Q1156.75 9.54393 1164.41 9.54393 L1171.46 9.54393 Z\" fill=\"#000000\" fill-rule=\"nonzero\" fill-opacity=\"1\" /><path clip-path=\"url(#clip550)\" d=\"M1195.28 32.4315 Q1189.28 32.4315 1185.8 37.1306 Q1182.31 41.7891 1182.31 49.9314 Q1182.31 58.0738 1185.76 62.7728 Q1189.24 67.4314 1195.28 67.4314 Q1201.23 67.4314 1204.71 62.7323 Q1208.2 58.0333 1208.2 49.9314 Q1208.2 41.8701 1204.71 37.1711 Q1201.23 32.4315 1195.28 32.4315 M1195.28 26.1121 Q1205 26.1121 1210.55 32.4315 Q1216.1 38.7509 1216.1 49.9314 Q1216.1 61.0714 1210.55 67.4314 Q1205 73.7508 1195.28 73.7508 Q1185.51 73.7508 1179.96 67.4314 Q1174.45 61.0714 1174.45 49.9314 Q1174.45 38.7509 1179.96 32.4315 Q1185.51 26.1121 1195.28 26.1121 Z\" fill=\"#000000\" fill-rule=\"nonzero\" fill-opacity=\"1\" /><path clip-path=\"url(#clip550)\" d=\"M1254.74 34.1734 Q1253.49 33.4443 1251.99 33.1202 Q1250.53 32.7556 1248.75 32.7556 Q1242.43 32.7556 1239.03 36.8875 Q1235.66 40.9789 1235.66 48.6757 L1235.66 72.576 L1228.17 72.576 L1228.17 27.2059 L1235.66 27.2059 L1235.66 34.2544 Q1238.01 30.1225 1241.78 28.1376 Q1245.55 26.1121 1250.94 26.1121 Q1251.7 26.1121 1252.64 26.2337 Q1253.57 26.3147 1254.7 26.5172 L1254.74 34.1734 Z\" fill=\"#000000\" fill-rule=\"nonzero\" fill-opacity=\"1\" /><path clip-path=\"url(#clip550)\" d=\"M1326.65 27.2059 L1310.24 49.2833 L1327.5 72.576 L1318.71 72.576 L1305.5 54.752 L1292.29 72.576 L1283.5 72.576 L1301.13 48.8377 L1285 27.2059 L1293.79 27.2059 L1305.82 43.369 L1317.86 27.2059 L1326.65 27.2059 Z\" fill=\"#000000\" fill-rule=\"nonzero\" fill-opacity=\"1\" /><path clip-path=\"url(#clip550)\" d=\"M1396.97 49.9314 Q1396.97 41.7081 1393.57 37.0496 Q1390.21 32.3505 1384.29 32.3505 Q1378.38 32.3505 1374.97 37.0496 Q1371.61 41.7081 1371.61 49.9314 Q1371.61 58.1548 1374.97 62.8538 Q1378.38 67.5124 1384.29 67.5124 Q1390.21 67.5124 1393.57 62.8538 Q1396.97 58.1548 1396.97 49.9314 M1371.61 34.0924 Q1373.96 30.0415 1377.53 28.0971 Q1381.13 26.1121 1386.11 26.1121 Q1394.38 26.1121 1399.52 32.6746 Q1404.71 39.2371 1404.71 49.9314 Q1404.71 60.6258 1399.52 67.1883 Q1394.38 73.7508 1386.11 73.7508 Q1381.13 73.7508 1377.53 71.8063 Q1373.96 69.8214 1371.61 65.7705 L1371.61 72.576 L1364.12 72.576 L1364.12 9.54393 L1371.61 9.54393 L1371.61 34.0924 Z\" fill=\"#000000\" fill-rule=\"nonzero\" fill-opacity=\"1\" /><path clip-path=\"url(#clip550)\" d=\"M1455.87 48.0275 L1455.87 51.6733 L1421.6 51.6733 Q1422.09 59.3701 1426.22 63.421 Q1430.39 67.4314 1437.8 67.4314 Q1442.1 67.4314 1446.11 66.3781 Q1450.16 65.3249 1454.13 63.2184 L1454.13 70.267 Q1450.12 71.9684 1445.91 72.8596 Q1441.69 73.7508 1437.36 73.7508 Q1426.5 73.7508 1420.14 67.4314 Q1413.82 61.1119 1413.82 50.3365 Q1413.82 39.1965 1419.82 32.6746 Q1425.85 26.1121 1436.06 26.1121 Q1445.22 26.1121 1450.52 32.0264 Q1455.87 37.9003 1455.87 48.0275 M1448.42 45.84 Q1448.34 39.7232 1444.97 36.0774 Q1441.65 32.4315 1436.14 32.4315 Q1429.9 32.4315 1426.14 35.9558 Q1422.41 39.4801 1421.84 45.8805 L1448.42 45.84 Z\" fill=\"#000000\" fill-rule=\"nonzero\" fill-opacity=\"1\" /><path clip-path=\"url(#clip550)\" d=\"M1475.48 14.324 L1475.48 27.2059 L1490.83 27.2059 L1490.83 32.9987 L1475.48 32.9987 L1475.48 57.6282 Q1475.48 63.1779 1476.98 64.7578 Q1478.51 66.3376 1483.17 66.3376 L1490.83 66.3376 L1490.83 72.576 L1483.17 72.576 Q1474.55 72.576 1471.26 69.3758 Q1467.98 66.1351 1467.98 57.6282 L1467.98 32.9987 L1462.51 32.9987 L1462.51 27.2059 L1467.98 27.2059 L1467.98 14.324 L1475.48 14.324 Z\" fill=\"#000000\" fill-rule=\"nonzero\" fill-opacity=\"1\" /><path clip-path=\"url(#clip550)\" d=\"M1496.3 27.2059 L1503.75 27.2059 L1513.07 62.6108 L1522.35 27.2059 L1531.14 27.2059 L1540.45 62.6108 L1549.73 27.2059 L1557.18 27.2059 L1545.31 72.576 L1536.52 72.576 L1526.76 35.3887 L1516.96 72.576 L1508.17 72.576 L1496.3 27.2059 Z\" fill=\"#000000\" fill-rule=\"nonzero\" fill-opacity=\"1\" /><path clip-path=\"url(#clip550)\" d=\"M1607.29 48.0275 L1607.29 51.6733 L1573.02 51.6733 Q1573.51 59.3701 1577.64 63.421 Q1581.81 67.4314 1589.23 67.4314 Q1593.52 67.4314 1597.53 66.3781 Q1601.58 65.3249 1605.55 63.2184 L1605.55 70.267 Q1601.54 71.9684 1597.33 72.8596 Q1593.11 73.7508 1588.78 73.7508 Q1577.92 73.7508 1571.56 67.4314 Q1565.24 61.1119 1565.24 50.3365 Q1565.24 39.1965 1571.24 32.6746 Q1577.28 26.1121 1587.48 26.1121 Q1596.64 26.1121 1601.95 32.0264 Q1607.29 37.9003 1607.29 48.0275 M1599.84 45.84 Q1599.76 39.7232 1596.4 36.0774 Q1593.07 32.4315 1587.57 32.4315 Q1581.33 32.4315 1577.56 35.9558 Q1573.83 39.4801 1573.27 45.8805 L1599.84 45.84 Z\" fill=\"#000000\" fill-rule=\"nonzero\" fill-opacity=\"1\" /><path clip-path=\"url(#clip550)\" d=\"M1658.33 48.0275 L1658.33 51.6733 L1624.06 51.6733 Q1624.55 59.3701 1628.68 63.421 Q1632.85 67.4314 1640.27 67.4314 Q1644.56 67.4314 1648.57 66.3781 Q1652.62 65.3249 1656.59 63.2184 L1656.59 70.267 Q1652.58 71.9684 1648.37 72.8596 Q1644.16 73.7508 1639.82 73.7508 Q1628.97 73.7508 1622.61 67.4314 Q1616.29 61.1119 1616.29 50.3365 Q1616.29 39.1965 1622.28 32.6746 Q1628.32 26.1121 1638.53 26.1121 Q1647.68 26.1121 1652.99 32.0264 Q1658.33 37.9003 1658.33 48.0275 M1650.88 45.84 Q1650.8 39.7232 1647.44 36.0774 Q1644.12 32.4315 1638.61 32.4315 Q1632.37 32.4315 1628.6 35.9558 Q1624.87 39.4801 1624.31 45.8805 L1650.88 45.84 Z\" fill=\"#000000\" fill-rule=\"nonzero\" fill-opacity=\"1\" /><path clip-path=\"url(#clip550)\" d=\"M1708.28 45.1919 L1708.28 72.576 L1700.83 72.576 L1700.83 45.4349 Q1700.83 38.994 1698.32 35.7938 Q1695.81 32.5936 1690.78 32.5936 Q1684.75 32.5936 1681.26 36.4419 Q1677.78 40.2903 1677.78 46.9338 L1677.78 72.576 L1670.28 72.576 L1670.28 27.2059 L1677.78 27.2059 L1677.78 34.2544 Q1680.45 30.163 1684.06 28.1376 Q1687.7 26.1121 1692.44 26.1121 Q1700.26 26.1121 1704.27 30.9732 Q1708.28 35.7938 1708.28 45.1919 Z\" fill=\"#000000\" fill-rule=\"nonzero\" fill-opacity=\"1\" /><path clip-path=\"url(#clip550)\" d=\"M1745.75 46.5287 L1767.59 46.5287 L1767.59 53.1722 L1745.75 53.1722 L1745.75 46.5287 Z\" fill=\"#000000\" fill-rule=\"nonzero\" fill-opacity=\"1\" /><path clip-path=\"url(#clip550)\" d=\"M1780.59 12.096 L1812.71 12.096 L1812.71 18.9825 L1788.09 18.9825 L1788.09 33.8088 Q1789.87 33.2012 1791.65 32.9176 Q1793.43 32.5936 1795.21 32.5936 Q1805.34 32.5936 1811.26 38.1433 Q1817.17 43.6931 1817.17 53.1722 Q1817.17 62.9348 1811.09 68.3631 Q1805.02 73.7508 1793.96 73.7508 Q1790.15 73.7508 1786.18 73.1026 Q1782.25 72.4545 1778.04 71.1582 L1778.04 62.9348 Q1781.68 64.9198 1785.57 65.892 Q1789.46 66.8642 1793.8 66.8642 Q1800.8 66.8642 1804.9 63.1779 Q1808.99 59.4916 1808.99 53.1722 Q1808.99 46.8528 1804.9 43.1664 Q1800.8 39.4801 1793.8 39.4801 Q1790.52 39.4801 1787.23 40.2093 Q1783.99 40.9384 1780.59 42.4778 L1780.59 12.096 Z\" fill=\"#000000\" fill-rule=\"nonzero\" fill-opacity=\"1\" /><path clip-path=\"url(#clip550)\" d=\"M1865.98 14.324 L1865.98 27.2059 L1881.34 27.2059 L1881.34 32.9987 L1865.98 32.9987 L1865.98 57.6282 Q1865.98 63.1779 1867.48 64.7578 Q1869.02 66.3376 1873.68 66.3376 L1881.34 66.3376 L1881.34 72.576 L1873.68 72.576 Q1865.05 72.576 1861.77 69.3758 Q1858.49 66.1351 1858.49 57.6282 L1858.49 32.9987 L1853.02 32.9987 L1853.02 27.2059 L1858.49 27.2059 L1858.49 14.324 L1865.98 14.324 Z\" fill=\"#000000\" fill-rule=\"nonzero\" fill-opacity=\"1\" /><path clip-path=\"url(#clip550)\" d=\"M1908.72 32.4315 Q1902.73 32.4315 1899.24 37.1306 Q1895.76 41.7891 1895.76 49.9314 Q1895.76 58.0738 1899.2 62.7728 Q1902.69 67.4314 1908.72 67.4314 Q1914.68 67.4314 1918.16 62.7323 Q1921.64 58.0333 1921.64 49.9314 Q1921.64 41.8701 1918.16 37.1711 Q1914.68 32.4315 1908.72 32.4315 M1908.72 26.1121 Q1918.44 26.1121 1923.99 32.4315 Q1929.54 38.7509 1929.54 49.9314 Q1929.54 61.0714 1923.99 67.4314 Q1918.44 73.7508 1908.72 73.7508 Q1898.96 73.7508 1893.41 67.4314 Q1887.9 61.0714 1887.9 49.9314 Q1887.9 38.7509 1893.41 32.4315 Q1898.96 26.1121 1908.72 26.1121 Z\" fill=\"#000000\" fill-rule=\"nonzero\" fill-opacity=\"1\" /><path clip-path=\"url(#clip550)\" d=\"M1969.4 12.096 L2001.53 12.096 L2001.53 18.9825 L1976.9 18.9825 L1976.9 33.8088 Q1978.68 33.2012 1980.46 32.9176 Q1982.24 32.5936 1984.03 32.5936 Q1994.15 32.5936 2000.07 38.1433 Q2005.98 43.6931 2005.98 53.1722 Q2005.98 62.9348 1999.91 68.3631 Q1993.83 73.7508 1982.77 73.7508 Q1978.96 73.7508 1974.99 73.1026 Q1971.06 72.4545 1966.85 71.1582 L1966.85 62.9348 Q1970.5 64.9198 1974.39 65.892 Q1978.27 66.8642 1982.61 66.8642 Q1989.62 66.8642 1993.71 63.1779 Q1997.8 59.4916 1997.8 53.1722 Q1997.8 46.8528 1993.71 43.1664 Q1989.62 39.4801 1982.61 39.4801 Q1979.33 39.4801 1976.05 40.2093 Q1972.81 40.9384 1969.4 42.4778 L1969.4 12.096 Z\" fill=\"#000000\" fill-rule=\"nonzero\" fill-opacity=\"1\" /><polyline clip-path=\"url(#clip552)\" style=\"stroke:#009af9; stroke-linecap:round; stroke-linejoin:round; stroke-width:4; stroke-opacity:1; fill:none\" points=\"264.778,160.256 467.495,601.666 670.211,944.985 872.927,1190.21 1075.64,1337.35 1278.36,1386.4 1481.08,1337.35 1683.79,1190.21 1886.51,944.985 2089.22,601.666 2291.94,160.256 \"/>\n",
       "<circle clip-path=\"url(#clip552)\" cx=\"264.778\" cy=\"160.256\" r=\"14.4\" fill=\"#009af9\" fill-rule=\"evenodd\" fill-opacity=\"1\" stroke=\"#000000\" stroke-opacity=\"1\" stroke-width=\"3.2\"/>\n",
       "<circle clip-path=\"url(#clip552)\" cx=\"467.495\" cy=\"601.666\" r=\"14.4\" fill=\"#009af9\" fill-rule=\"evenodd\" fill-opacity=\"1\" stroke=\"#000000\" stroke-opacity=\"1\" stroke-width=\"3.2\"/>\n",
       "<circle clip-path=\"url(#clip552)\" cx=\"670.211\" cy=\"944.985\" r=\"14.4\" fill=\"#009af9\" fill-rule=\"evenodd\" fill-opacity=\"1\" stroke=\"#000000\" stroke-opacity=\"1\" stroke-width=\"3.2\"/>\n",
       "<circle clip-path=\"url(#clip552)\" cx=\"872.927\" cy=\"1190.21\" r=\"14.4\" fill=\"#009af9\" fill-rule=\"evenodd\" fill-opacity=\"1\" stroke=\"#000000\" stroke-opacity=\"1\" stroke-width=\"3.2\"/>\n",
       "<circle clip-path=\"url(#clip552)\" cx=\"1075.64\" cy=\"1337.35\" r=\"14.4\" fill=\"#009af9\" fill-rule=\"evenodd\" fill-opacity=\"1\" stroke=\"#000000\" stroke-opacity=\"1\" stroke-width=\"3.2\"/>\n",
       "<circle clip-path=\"url(#clip552)\" cx=\"1278.36\" cy=\"1386.4\" r=\"14.4\" fill=\"#009af9\" fill-rule=\"evenodd\" fill-opacity=\"1\" stroke=\"#000000\" stroke-opacity=\"1\" stroke-width=\"3.2\"/>\n",
       "<circle clip-path=\"url(#clip552)\" cx=\"1481.08\" cy=\"1337.35\" r=\"14.4\" fill=\"#009af9\" fill-rule=\"evenodd\" fill-opacity=\"1\" stroke=\"#000000\" stroke-opacity=\"1\" stroke-width=\"3.2\"/>\n",
       "<circle clip-path=\"url(#clip552)\" cx=\"1683.79\" cy=\"1190.21\" r=\"14.4\" fill=\"#009af9\" fill-rule=\"evenodd\" fill-opacity=\"1\" stroke=\"#000000\" stroke-opacity=\"1\" stroke-width=\"3.2\"/>\n",
       "<circle clip-path=\"url(#clip552)\" cx=\"1886.51\" cy=\"944.985\" r=\"14.4\" fill=\"#009af9\" fill-rule=\"evenodd\" fill-opacity=\"1\" stroke=\"#000000\" stroke-opacity=\"1\" stroke-width=\"3.2\"/>\n",
       "<circle clip-path=\"url(#clip552)\" cx=\"2089.22\" cy=\"601.666\" r=\"14.4\" fill=\"#009af9\" fill-rule=\"evenodd\" fill-opacity=\"1\" stroke=\"#000000\" stroke-opacity=\"1\" stroke-width=\"3.2\"/>\n",
       "<circle clip-path=\"url(#clip552)\" cx=\"2291.94\" cy=\"160.256\" r=\"14.4\" fill=\"#009af9\" fill-rule=\"evenodd\" fill-opacity=\"1\" stroke=\"#000000\" stroke-opacity=\"1\" stroke-width=\"3.2\"/>\n",
       "</svg>\n"
      ],
      "text/html": [
       "<?xml version=\"1.0\" encoding=\"utf-8\"?>\n",
       "<svg xmlns=\"http://www.w3.org/2000/svg\" xmlns:xlink=\"http://www.w3.org/1999/xlink\" width=\"600\" height=\"400\" viewBox=\"0 0 2400 1600\">\n",
       "<defs>\n",
       "  <clipPath id=\"clip600\">\n",
       "    <rect x=\"0\" y=\"0\" width=\"2400\" height=\"1600\"/>\n",
       "  </clipPath>\n",
       "</defs>\n",
       "<path clip-path=\"url(#clip600)\" d=\"M0 1600 L2400 1600 L2400 0 L0 0  Z\" fill=\"#ffffff\" fill-rule=\"evenodd\" fill-opacity=\"1\"/>\n",
       "<defs>\n",
       "  <clipPath id=\"clip601\">\n",
       "    <rect x=\"480\" y=\"0\" width=\"1681\" height=\"1600\"/>\n",
       "  </clipPath>\n",
       "</defs>\n",
       "<path clip-path=\"url(#clip600)\" d=\"M203.964 1423.18 L2352.76 1423.18 L2352.76 123.472 L203.964 123.472  Z\" fill=\"#ffffff\" fill-rule=\"evenodd\" fill-opacity=\"1\"/>\n",
       "<defs>\n",
       "  <clipPath id=\"clip602\">\n",
       "    <rect x=\"203\" y=\"123\" width=\"2150\" height=\"1301\"/>\n",
       "  </clipPath>\n",
       "</defs>\n",
       "<polyline clip-path=\"url(#clip602)\" style=\"stroke:#000000; stroke-linecap:round; stroke-linejoin:round; stroke-width:2; stroke-opacity:0.1; fill:none\" points=\"467.495,1423.18 467.495,123.472 \"/>\n",
       "<polyline clip-path=\"url(#clip602)\" style=\"stroke:#000000; stroke-linecap:round; stroke-linejoin:round; stroke-width:2; stroke-opacity:0.1; fill:none\" points=\"872.927,1423.18 872.927,123.472 \"/>\n",
       "<polyline clip-path=\"url(#clip602)\" style=\"stroke:#000000; stroke-linecap:round; stroke-linejoin:round; stroke-width:2; stroke-opacity:0.1; fill:none\" points=\"1278.36,1423.18 1278.36,123.472 \"/>\n",
       "<polyline clip-path=\"url(#clip602)\" style=\"stroke:#000000; stroke-linecap:round; stroke-linejoin:round; stroke-width:2; stroke-opacity:0.1; fill:none\" points=\"1683.79,1423.18 1683.79,123.472 \"/>\n",
       "<polyline clip-path=\"url(#clip602)\" style=\"stroke:#000000; stroke-linecap:round; stroke-linejoin:round; stroke-width:2; stroke-opacity:0.1; fill:none\" points=\"2089.22,1423.18 2089.22,123.472 \"/>\n",
       "<polyline clip-path=\"url(#clip600)\" style=\"stroke:#000000; stroke-linecap:round; stroke-linejoin:round; stroke-width:4; stroke-opacity:1; fill:none\" points=\"203.964,1423.18 2352.76,1423.18 \"/>\n",
       "<polyline clip-path=\"url(#clip600)\" style=\"stroke:#000000; stroke-linecap:round; stroke-linejoin:round; stroke-width:4; stroke-opacity:1; fill:none\" points=\"467.495,1423.18 467.495,1404.28 \"/>\n",
       "<polyline clip-path=\"url(#clip600)\" style=\"stroke:#000000; stroke-linecap:round; stroke-linejoin:round; stroke-width:4; stroke-opacity:1; fill:none\" points=\"872.927,1423.18 872.927,1404.28 \"/>\n",
       "<polyline clip-path=\"url(#clip600)\" style=\"stroke:#000000; stroke-linecap:round; stroke-linejoin:round; stroke-width:4; stroke-opacity:1; fill:none\" points=\"1278.36,1423.18 1278.36,1404.28 \"/>\n",
       "<polyline clip-path=\"url(#clip600)\" style=\"stroke:#000000; stroke-linecap:round; stroke-linejoin:round; stroke-width:4; stroke-opacity:1; fill:none\" points=\"1683.79,1423.18 1683.79,1404.28 \"/>\n",
       "<polyline clip-path=\"url(#clip600)\" style=\"stroke:#000000; stroke-linecap:round; stroke-linejoin:round; stroke-width:4; stroke-opacity:1; fill:none\" points=\"2089.22,1423.18 2089.22,1404.28 \"/>\n",
       "<path clip-path=\"url(#clip600)\" d=\"M436.395 1468.75 L466.071 1468.75 L466.071 1472.69 L436.395 1472.69 L436.395 1468.75 Z\" fill=\"#000000\" fill-rule=\"nonzero\" fill-opacity=\"1\" /><path clip-path=\"url(#clip600)\" d=\"M489.011 1455.09 L477.205 1473.54 L489.011 1473.54 L489.011 1455.09 M487.784 1451.02 L493.664 1451.02 L493.664 1473.54 L498.594 1473.54 L498.594 1477.43 L493.664 1477.43 L493.664 1485.58 L489.011 1485.58 L489.011 1477.43 L473.409 1477.43 L473.409 1472.92 L487.784 1451.02 Z\" fill=\"#000000\" fill-rule=\"nonzero\" fill-opacity=\"1\" /><path clip-path=\"url(#clip600)\" d=\"M842.87 1468.75 L872.545 1468.75 L872.545 1472.69 L842.87 1472.69 L842.87 1468.75 Z\" fill=\"#000000\" fill-rule=\"nonzero\" fill-opacity=\"1\" /><path clip-path=\"url(#clip600)\" d=\"M886.666 1481.64 L902.985 1481.64 L902.985 1485.58 L881.041 1485.58 L881.041 1481.64 Q883.703 1478.89 888.286 1474.26 Q892.892 1469.61 894.073 1468.27 Q896.318 1465.74 897.198 1464.01 Q898.101 1462.25 898.101 1460.56 Q898.101 1457.8 896.156 1456.07 Q894.235 1454.33 891.133 1454.33 Q888.934 1454.33 886.48 1455.09 Q884.05 1455.86 881.272 1457.41 L881.272 1452.69 Q884.096 1451.55 886.55 1450.97 Q889.004 1450.39 891.041 1450.39 Q896.411 1450.39 899.605 1453.08 Q902.8 1455.77 902.8 1460.26 Q902.8 1462.39 901.99 1464.31 Q901.203 1466.2 899.096 1468.8 Q898.517 1469.47 895.416 1472.69 Q892.314 1475.88 886.666 1481.64 Z\" fill=\"#000000\" fill-rule=\"nonzero\" fill-opacity=\"1\" /><path clip-path=\"url(#clip600)\" d=\"M1278.36 1454.1 Q1274.75 1454.1 1272.92 1457.66 Q1271.11 1461.2 1271.11 1468.33 Q1271.11 1475.44 1272.92 1479.01 Q1274.75 1482.55 1278.36 1482.55 Q1281.99 1482.55 1283.8 1479.01 Q1285.63 1475.44 1285.63 1468.33 Q1285.63 1461.2 1283.8 1457.66 Q1281.99 1454.1 1278.36 1454.1 M1278.36 1450.39 Q1284.17 1450.39 1287.23 1455 Q1290.3 1459.58 1290.3 1468.33 Q1290.3 1477.06 1287.23 1481.67 Q1284.17 1486.25 1278.36 1486.25 Q1272.55 1486.25 1269.47 1481.67 Q1266.42 1477.06 1266.42 1468.33 Q1266.42 1459.58 1269.47 1455 Q1272.55 1450.39 1278.36 1450.39 Z\" fill=\"#000000\" fill-rule=\"nonzero\" fill-opacity=\"1\" /><path clip-path=\"url(#clip600)\" d=\"M1678.45 1481.64 L1694.76 1481.64 L1694.76 1485.58 L1672.82 1485.58 L1672.82 1481.64 Q1675.48 1478.89 1680.07 1474.26 Q1684.67 1469.61 1685.85 1468.27 Q1688.1 1465.74 1688.98 1464.01 Q1689.88 1462.25 1689.88 1460.56 Q1689.88 1457.8 1687.94 1456.07 Q1686.01 1454.33 1682.91 1454.33 Q1680.71 1454.33 1678.26 1455.09 Q1675.83 1455.86 1673.05 1457.41 L1673.05 1452.69 Q1675.88 1451.55 1678.33 1450.97 Q1680.78 1450.39 1682.82 1450.39 Q1688.19 1450.39 1691.38 1453.08 Q1694.58 1455.77 1694.58 1460.26 Q1694.58 1462.39 1693.77 1464.31 Q1692.98 1466.2 1690.88 1468.8 Q1690.3 1469.47 1687.2 1472.69 Q1684.09 1475.88 1678.45 1481.64 Z\" fill=\"#000000\" fill-rule=\"nonzero\" fill-opacity=\"1\" /><path clip-path=\"url(#clip600)\" d=\"M2092.23 1455.09 L2080.43 1473.54 L2092.23 1473.54 L2092.23 1455.09 M2091.01 1451.02 L2096.89 1451.02 L2096.89 1473.54 L2101.82 1473.54 L2101.82 1477.43 L2096.89 1477.43 L2096.89 1485.58 L2092.23 1485.58 L2092.23 1477.43 L2076.63 1477.43 L2076.63 1472.92 L2091.01 1451.02 Z\" fill=\"#000000\" fill-rule=\"nonzero\" fill-opacity=\"1\" /><path clip-path=\"url(#clip600)\" d=\"M1294.97 1532.4 L1282.08 1549.74 L1295.64 1568.04 L1288.74 1568.04 L1278.36 1554.04 L1267.98 1568.04 L1261.08 1568.04 L1274.92 1549.39 L1262.25 1532.4 L1269.16 1532.4 L1278.61 1545.1 L1288.07 1532.4 L1294.97 1532.4 Z\" fill=\"#000000\" fill-rule=\"nonzero\" fill-opacity=\"1\" /><polyline clip-path=\"url(#clip602)\" style=\"stroke:#000000; stroke-linecap:round; stroke-linejoin:round; stroke-width:2; stroke-opacity:0.1; fill:none\" points=\"203.964,1386.4 2352.76,1386.4 \"/>\n",
       "<polyline clip-path=\"url(#clip602)\" style=\"stroke:#000000; stroke-linecap:round; stroke-linejoin:round; stroke-width:2; stroke-opacity:0.1; fill:none\" points=\"203.964,1141.17 2352.76,1141.17 \"/>\n",
       "<polyline clip-path=\"url(#clip602)\" style=\"stroke:#000000; stroke-linecap:round; stroke-linejoin:round; stroke-width:2; stroke-opacity:0.1; fill:none\" points=\"203.964,895.94 2352.76,895.94 \"/>\n",
       "<polyline clip-path=\"url(#clip602)\" style=\"stroke:#000000; stroke-linecap:round; stroke-linejoin:round; stroke-width:2; stroke-opacity:0.1; fill:none\" points=\"203.964,650.712 2352.76,650.712 \"/>\n",
       "<polyline clip-path=\"url(#clip602)\" style=\"stroke:#000000; stroke-linecap:round; stroke-linejoin:round; stroke-width:2; stroke-opacity:0.1; fill:none\" points=\"203.964,405.484 2352.76,405.484 \"/>\n",
       "<polyline clip-path=\"url(#clip602)\" style=\"stroke:#000000; stroke-linecap:round; stroke-linejoin:round; stroke-width:2; stroke-opacity:0.1; fill:none\" points=\"203.964,160.256 2352.76,160.256 \"/>\n",
       "<polyline clip-path=\"url(#clip600)\" style=\"stroke:#000000; stroke-linecap:round; stroke-linejoin:round; stroke-width:4; stroke-opacity:1; fill:none\" points=\"203.964,1423.18 203.964,123.472 \"/>\n",
       "<polyline clip-path=\"url(#clip600)\" style=\"stroke:#000000; stroke-linecap:round; stroke-linejoin:round; stroke-width:4; stroke-opacity:1; fill:none\" points=\"203.964,1386.4 222.861,1386.4 \"/>\n",
       "<polyline clip-path=\"url(#clip600)\" style=\"stroke:#000000; stroke-linecap:round; stroke-linejoin:round; stroke-width:4; stroke-opacity:1; fill:none\" points=\"203.964,1141.17 222.861,1141.17 \"/>\n",
       "<polyline clip-path=\"url(#clip600)\" style=\"stroke:#000000; stroke-linecap:round; stroke-linejoin:round; stroke-width:4; stroke-opacity:1; fill:none\" points=\"203.964,895.94 222.861,895.94 \"/>\n",
       "<polyline clip-path=\"url(#clip600)\" style=\"stroke:#000000; stroke-linecap:round; stroke-linejoin:round; stroke-width:4; stroke-opacity:1; fill:none\" points=\"203.964,650.712 222.861,650.712 \"/>\n",
       "<polyline clip-path=\"url(#clip600)\" style=\"stroke:#000000; stroke-linecap:round; stroke-linejoin:round; stroke-width:4; stroke-opacity:1; fill:none\" points=\"203.964,405.484 222.861,405.484 \"/>\n",
       "<polyline clip-path=\"url(#clip600)\" style=\"stroke:#000000; stroke-linecap:round; stroke-linejoin:round; stroke-width:4; stroke-opacity:1; fill:none\" points=\"203.964,160.256 222.861,160.256 \"/>\n",
       "<path clip-path=\"url(#clip600)\" d=\"M156.019 1372.19 Q152.408 1372.19 150.579 1375.76 Q148.774 1379.3 148.774 1386.43 Q148.774 1393.54 150.579 1397.1 Q152.408 1400.64 156.019 1400.64 Q159.653 1400.64 161.459 1397.1 Q163.288 1393.54 163.288 1386.43 Q163.288 1379.3 161.459 1375.76 Q159.653 1372.19 156.019 1372.19 M156.019 1368.49 Q161.829 1368.49 164.885 1373.1 Q167.964 1377.68 167.964 1386.43 Q167.964 1395.16 164.885 1399.76 Q161.829 1404.35 156.019 1404.35 Q150.209 1404.35 147.13 1399.76 Q144.075 1395.16 144.075 1386.43 Q144.075 1377.68 147.13 1373.1 Q150.209 1368.49 156.019 1368.49 Z\" fill=\"#000000\" fill-rule=\"nonzero\" fill-opacity=\"1\" /><path clip-path=\"url(#clip600)\" d=\"M147.061 1123.89 L165.417 1123.89 L165.417 1127.82 L151.343 1127.82 L151.343 1136.3 Q152.362 1135.95 153.38 1135.79 Q154.399 1135.6 155.417 1135.6 Q161.204 1135.6 164.584 1138.77 Q167.964 1141.94 167.964 1147.36 Q167.964 1152.94 164.491 1156.04 Q161.019 1159.12 154.7 1159.12 Q152.524 1159.12 150.255 1158.75 Q148.01 1158.38 145.603 1157.64 L145.603 1152.94 Q147.686 1154.07 149.908 1154.63 Q152.13 1155.18 154.607 1155.18 Q158.612 1155.18 160.95 1153.08 Q163.288 1150.97 163.288 1147.36 Q163.288 1143.75 160.95 1141.64 Q158.612 1139.54 154.607 1139.54 Q152.732 1139.54 150.857 1139.95 Q149.005 1140.37 147.061 1141.25 L147.061 1123.89 Z\" fill=\"#000000\" fill-rule=\"nonzero\" fill-opacity=\"1\" /><path clip-path=\"url(#clip600)\" d=\"M116.668 909.285 L124.306 909.285 L124.306 882.919 L115.996 884.586 L115.996 880.327 L124.26 878.66 L128.936 878.66 L128.936 909.285 L136.575 909.285 L136.575 913.22 L116.668 913.22 L116.668 909.285 Z\" fill=\"#000000\" fill-rule=\"nonzero\" fill-opacity=\"1\" /><path clip-path=\"url(#clip600)\" d=\"M156.019 881.739 Q152.408 881.739 150.579 885.303 Q148.774 888.845 148.774 895.975 Q148.774 903.081 150.579 906.646 Q152.408 910.188 156.019 910.188 Q159.653 910.188 161.459 906.646 Q163.288 903.081 163.288 895.975 Q163.288 888.845 161.459 885.303 Q159.653 881.739 156.019 881.739 M156.019 878.035 Q161.829 878.035 164.885 882.641 Q167.964 887.225 167.964 895.975 Q167.964 904.701 164.885 909.308 Q161.829 913.891 156.019 913.891 Q150.209 913.891 147.13 909.308 Q144.075 904.701 144.075 895.975 Q144.075 887.225 147.13 882.641 Q150.209 878.035 156.019 878.035 Z\" fill=\"#000000\" fill-rule=\"nonzero\" fill-opacity=\"1\" /><path clip-path=\"url(#clip600)\" d=\"M117.663 664.057 L125.302 664.057 L125.302 637.691 L116.992 639.358 L116.992 635.099 L125.255 633.432 L129.931 633.432 L129.931 664.057 L137.57 664.057 L137.57 667.992 L117.663 667.992 L117.663 664.057 Z\" fill=\"#000000\" fill-rule=\"nonzero\" fill-opacity=\"1\" /><path clip-path=\"url(#clip600)\" d=\"M147.061 633.432 L165.417 633.432 L165.417 637.367 L151.343 637.367 L151.343 645.839 Q152.362 645.492 153.38 645.33 Q154.399 645.145 155.417 645.145 Q161.204 645.145 164.584 648.316 Q167.964 651.488 167.964 656.904 Q167.964 662.483 164.491 665.585 Q161.019 668.663 154.7 668.663 Q152.524 668.663 150.255 668.293 Q148.01 667.923 145.603 667.182 L145.603 662.483 Q147.686 663.617 149.908 664.173 Q152.13 664.728 154.607 664.728 Q158.612 664.728 160.95 662.622 Q163.288 660.515 163.288 656.904 Q163.288 653.293 160.95 651.187 Q158.612 649.08 154.607 649.08 Q152.732 649.08 150.857 649.497 Q149.005 649.913 147.061 650.793 L147.061 633.432 Z\" fill=\"#000000\" fill-rule=\"nonzero\" fill-opacity=\"1\" /><path clip-path=\"url(#clip600)\" d=\"M119.885 418.829 L136.204 418.829 L136.204 422.764 L114.26 422.764 L114.26 418.829 Q116.922 416.074 121.505 411.445 Q126.112 406.792 127.292 405.449 Q129.538 402.926 130.417 401.19 Q131.32 399.431 131.32 397.741 Q131.32 394.987 129.376 393.25 Q127.455 391.514 124.353 391.514 Q122.154 391.514 119.7 392.278 Q117.269 393.042 114.492 394.593 L114.492 389.871 Q117.316 388.737 119.769 388.158 Q122.223 387.579 124.26 387.579 Q129.63 387.579 132.825 390.264 Q136.019 392.95 136.019 397.44 Q136.019 399.57 135.209 401.491 Q134.422 403.389 132.316 405.982 Q131.737 406.653 128.635 409.871 Q125.533 413.065 119.885 418.829 Z\" fill=\"#000000\" fill-rule=\"nonzero\" fill-opacity=\"1\" /><path clip-path=\"url(#clip600)\" d=\"M156.019 391.283 Q152.408 391.283 150.579 394.848 Q148.774 398.389 148.774 405.519 Q148.774 412.625 150.579 416.19 Q152.408 419.732 156.019 419.732 Q159.653 419.732 161.459 416.19 Q163.288 412.625 163.288 405.519 Q163.288 398.389 161.459 394.848 Q159.653 391.283 156.019 391.283 M156.019 387.579 Q161.829 387.579 164.885 392.186 Q167.964 396.769 167.964 405.519 Q167.964 414.246 164.885 418.852 Q161.829 423.435 156.019 423.435 Q150.209 423.435 147.13 418.852 Q144.075 414.246 144.075 405.519 Q144.075 396.769 147.13 392.186 Q150.209 387.579 156.019 387.579 Z\" fill=\"#000000\" fill-rule=\"nonzero\" fill-opacity=\"1\" /><path clip-path=\"url(#clip600)\" d=\"M120.88 173.601 L137.2 173.601 L137.2 177.536 L115.256 177.536 L115.256 173.601 Q117.918 170.847 122.501 166.217 Q127.107 161.564 128.288 160.222 Q130.533 157.698 131.413 155.962 Q132.316 154.203 132.316 152.513 Q132.316 149.759 130.371 148.023 Q128.45 146.286 125.348 146.286 Q123.149 146.286 120.695 147.05 Q118.265 147.814 115.487 149.365 L115.487 144.643 Q118.311 143.509 120.765 142.93 Q123.218 142.351 125.255 142.351 Q130.626 142.351 133.82 145.036 Q137.015 147.722 137.015 152.212 Q137.015 154.342 136.204 156.263 Q135.417 158.161 133.311 160.754 Q132.732 161.425 129.63 164.643 Q126.529 167.837 120.88 173.601 Z\" fill=\"#000000\" fill-rule=\"nonzero\" fill-opacity=\"1\" /><path clip-path=\"url(#clip600)\" d=\"M147.061 142.976 L165.417 142.976 L165.417 146.911 L151.343 146.911 L151.343 155.384 Q152.362 155.036 153.38 154.874 Q154.399 154.689 155.417 154.689 Q161.204 154.689 164.584 157.86 Q167.964 161.032 167.964 166.448 Q167.964 172.027 164.491 175.129 Q161.019 178.208 154.7 178.208 Q152.524 178.208 150.255 177.837 Q148.01 177.467 145.603 176.726 L145.603 172.027 Q147.686 173.161 149.908 173.717 Q152.13 174.272 154.607 174.272 Q158.612 174.272 160.95 172.166 Q163.288 170.059 163.288 166.448 Q163.288 162.837 160.95 160.731 Q158.612 158.624 154.607 158.624 Q152.732 158.624 150.857 159.041 Q149.005 159.458 147.061 160.337 L147.061 142.976 Z\" fill=\"#000000\" fill-rule=\"nonzero\" fill-opacity=\"1\" /><path clip-path=\"url(#clip600)\" d=\"M67.3143 771.639 Q73.68 774.122 75.6216 776.477 Q77.5631 778.832 77.5631 782.779 L77.5631 787.458 L72.6615 787.458 L72.6615 784.02 Q72.6615 781.601 71.5157 780.265 Q70.3699 778.928 66.1048 777.305 L63.4312 776.254 L28.3562 790.673 L28.3562 784.466 L56.238 773.326 L28.3562 762.186 L28.3562 755.979 L67.3143 771.639 Z\" fill=\"#000000\" fill-rule=\"nonzero\" fill-opacity=\"1\" /><path clip-path=\"url(#clip600)\" d=\"M558.919 18.8205 L558.919 41.5461 L569.208 41.5461 Q574.92 41.5461 578.039 38.5889 Q581.159 35.6318 581.159 30.163 Q581.159 24.7348 578.039 21.7777 Q574.92 18.8205 569.208 18.8205 L558.919 18.8205 M550.736 12.096 L569.208 12.096 Q579.376 12.096 584.561 16.714 Q589.787 21.2916 589.787 30.163 Q589.787 39.1155 584.561 43.6931 Q579.376 48.2706 569.208 48.2706 L558.919 48.2706 L558.919 72.576 L550.736 72.576 L550.736 12.096 Z\" fill=\"#000000\" fill-rule=\"nonzero\" fill-opacity=\"1\" /><path clip-path=\"url(#clip600)\" d=\"M600.441 9.54393 L607.895 9.54393 L607.895 72.576 L600.441 72.576 L600.441 9.54393 Z\" fill=\"#000000\" fill-rule=\"nonzero\" fill-opacity=\"1\" /><path clip-path=\"url(#clip600)\" d=\"M641.071 32.4315 Q635.076 32.4315 631.592 37.1306 Q628.109 41.7891 628.109 49.9314 Q628.109 58.0738 631.552 62.7728 Q635.036 67.4314 641.071 67.4314 Q647.026 67.4314 650.51 62.7323 Q653.994 58.0333 653.994 49.9314 Q653.994 41.8701 650.51 37.1711 Q647.026 32.4315 641.071 32.4315 M641.071 26.1121 Q650.794 26.1121 656.343 32.4315 Q661.893 38.7509 661.893 49.9314 Q661.893 61.0714 656.343 67.4314 Q650.794 73.7508 641.071 73.7508 Q631.309 73.7508 625.759 67.4314 Q620.25 61.0714 620.25 49.9314 Q620.25 38.7509 625.759 32.4315 Q631.309 26.1121 641.071 26.1121 Z\" fill=\"#000000\" fill-rule=\"nonzero\" fill-opacity=\"1\" /><path clip-path=\"url(#clip600)\" d=\"M681.621 14.324 L681.621 27.2059 L696.974 27.2059 L696.974 32.9987 L681.621 32.9987 L681.621 57.6282 Q681.621 63.1779 683.12 64.7578 Q684.659 66.3376 689.318 66.3376 L696.974 66.3376 L696.974 72.576 L689.318 72.576 Q680.689 72.576 677.408 69.3758 Q674.127 66.1351 674.127 57.6282 L674.127 32.9987 L668.658 32.9987 L668.658 27.2059 L674.127 27.2059 L674.127 14.324 L681.621 14.324 Z\" fill=\"#000000\" fill-rule=\"nonzero\" fill-opacity=\"1\" /><path clip-path=\"url(#clip600)\" d=\"M750.729 32.4315 Q744.734 32.4315 741.25 37.1306 Q737.767 41.7891 737.767 49.9314 Q737.767 58.0738 741.21 62.7728 Q744.694 67.4314 750.729 67.4314 Q756.684 67.4314 760.168 62.7323 Q763.652 58.0333 763.652 49.9314 Q763.652 41.8701 760.168 37.1711 Q756.684 32.4315 750.729 32.4315 M750.729 26.1121 Q760.452 26.1121 766.001 32.4315 Q771.551 38.7509 771.551 49.9314 Q771.551 61.0714 766.001 67.4314 Q760.452 73.7508 750.729 73.7508 Q740.967 73.7508 735.417 67.4314 Q729.908 61.0714 729.908 49.9314 Q729.908 38.7509 735.417 32.4315 Q740.967 26.1121 750.729 26.1121 Z\" fill=\"#000000\" fill-rule=\"nonzero\" fill-opacity=\"1\" /><path clip-path=\"url(#clip600)\" d=\"M806.875 9.54393 L806.875 15.7418 L799.745 15.7418 Q795.735 15.7418 794.155 17.3622 Q792.616 18.9825 792.616 23.1955 L792.616 27.2059 L804.89 27.2059 L804.89 32.9987 L792.616 32.9987 L792.616 72.576 L785.122 72.576 L785.122 32.9987 L777.992 32.9987 L777.992 27.2059 L785.122 27.2059 L785.122 24.0462 Q785.122 16.471 788.646 13.0277 Q792.17 9.54393 799.826 9.54393 L806.875 9.54393 Z\" fill=\"#000000\" fill-rule=\"nonzero\" fill-opacity=\"1\" /><path clip-path=\"url(#clip600)\" d=\"M868.408 28.5427 L868.408 35.5912 Q865.249 33.9709 861.846 33.1607 Q858.443 32.3505 854.797 32.3505 Q849.247 32.3505 846.452 34.0519 Q843.698 35.7533 843.698 39.156 Q843.698 41.7486 845.683 43.2475 Q847.668 44.7058 853.663 46.0426 L856.215 46.6097 Q864.155 48.3111 867.477 51.4303 Q870.839 54.509 870.839 60.0587 Q870.839 66.3781 865.816 70.0644 Q860.833 73.7508 852.083 73.7508 Q848.437 73.7508 844.467 73.0216 Q840.538 72.3329 836.163 70.9151 L836.163 63.2184 Q840.295 65.3654 844.305 66.4591 Q848.316 67.5124 852.245 67.5124 Q857.511 67.5124 860.347 65.73 Q863.183 63.9071 863.183 60.6258 Q863.183 57.5877 861.117 55.9673 Q859.091 54.3469 852.164 52.8481 L849.572 52.2405 Q842.644 50.7821 839.566 47.7845 Q836.487 44.7463 836.487 39.4801 Q836.487 33.0797 841.024 29.5959 Q845.561 26.1121 853.906 26.1121 Q858.038 26.1121 861.684 26.7198 Q865.33 27.3274 868.408 28.5427 Z\" fill=\"#000000\" fill-rule=\"nonzero\" fill-opacity=\"1\" /><path clip-path=\"url(#clip600)\" d=\"M887.164 49.9314 Q887.164 58.1548 890.526 62.8538 Q893.929 67.5124 899.843 67.5124 Q905.758 67.5124 909.16 62.8538 Q912.563 58.1548 912.563 49.9314 Q912.563 41.7081 909.16 37.0496 Q905.758 32.3505 899.843 32.3505 Q893.929 32.3505 890.526 37.0496 Q887.164 41.7081 887.164 49.9314 M912.563 65.7705 Q910.214 69.8214 906.608 71.8063 Q903.043 73.7508 898.02 73.7508 Q889.797 73.7508 884.612 67.1883 Q879.467 60.6258 879.467 49.9314 Q879.467 39.2371 884.612 32.6746 Q889.797 26.1121 898.02 26.1121 Q903.043 26.1121 906.608 28.0971 Q910.214 30.0415 912.563 34.0924 L912.563 27.2059 L920.017 27.2059 L920.017 89.8329 L912.563 89.8329 L912.563 65.7705 Z\" fill=\"#000000\" fill-rule=\"nonzero\" fill-opacity=\"1\" /><path clip-path=\"url(#clip600)\" d=\"M934.6 54.671 L934.6 27.2059 L942.054 27.2059 L942.054 54.3874 Q942.054 60.8284 944.565 64.0691 Q947.077 67.2693 952.1 67.2693 Q958.136 67.2693 961.62 63.421 Q965.144 59.5726 965.144 52.9291 L965.144 27.2059 L972.597 27.2059 L972.597 72.576 L965.144 72.576 L965.144 65.6084 Q962.43 69.7404 958.824 71.7658 Q955.26 73.7508 950.52 73.7508 Q942.702 73.7508 938.651 68.8897 Q934.6 64.0286 934.6 54.671 M953.356 26.1121 L953.356 26.1121 Z\" fill=\"#000000\" fill-rule=\"nonzero\" fill-opacity=\"1\" /><path clip-path=\"url(#clip600)\" d=\"M1008.57 49.7694 Q999.536 49.7694 996.052 51.8354 Q992.568 53.9013 992.568 58.8839 Q992.568 62.8538 995.161 65.2034 Q997.794 67.5124 1002.29 67.5124 Q1008.49 67.5124 1012.22 63.1374 Q1015.98 58.7219 1015.98 51.4303 L1015.98 49.7694 L1008.57 49.7694 M1023.44 46.6907 L1023.44 72.576 L1015.98 72.576 L1015.98 65.6895 Q1013.43 69.8214 1009.62 71.8063 Q1005.81 73.7508 1000.31 73.7508 Q993.338 73.7508 989.206 69.8619 Q985.115 65.9325 985.115 59.3701 Q985.115 51.7138 990.219 47.825 Q995.364 43.9361 1005.53 43.9361 L1015.98 43.9361 L1015.98 43.2069 Q1015.98 38.0623 1012.58 35.2672 Q1009.22 32.4315 1003.1 32.4315 Q999.212 32.4315 995.526 33.3632 Q991.839 34.295 988.437 36.1584 L988.437 29.2718 Q992.528 27.692 996.376 26.9223 Q1000.22 26.1121 1003.87 26.1121 Q1013.71 26.1121 1018.58 31.2163 Q1023.44 36.3204 1023.44 46.6907 Z\" fill=\"#000000\" fill-rule=\"nonzero\" fill-opacity=\"1\" /><path clip-path=\"url(#clip600)\" d=\"M1065.08 34.1734 Q1063.82 33.4443 1062.33 33.1202 Q1060.87 32.7556 1059.08 32.7556 Q1052.76 32.7556 1049.36 36.8875 Q1046 40.9789 1046 48.6757 L1046 72.576 L1038.51 72.576 L1038.51 27.2059 L1046 27.2059 L1046 34.2544 Q1048.35 30.1225 1052.12 28.1376 Q1055.88 26.1121 1061.27 26.1121 Q1062.04 26.1121 1062.97 26.2337 Q1063.9 26.3147 1065.04 26.5172 L1065.08 34.1734 Z\" fill=\"#000000\" fill-rule=\"nonzero\" fill-opacity=\"1\" /><path clip-path=\"url(#clip600)\" d=\"M1109.88 48.0275 L1109.88 51.6733 L1075.61 51.6733 Q1076.1 59.3701 1080.23 63.421 Q1084.4 67.4314 1091.82 67.4314 Q1096.11 67.4314 1100.12 66.3781 Q1104.17 65.3249 1108.14 63.2184 L1108.14 70.267 Q1104.13 71.9684 1099.92 72.8596 Q1095.7 73.7508 1091.37 73.7508 Q1080.51 73.7508 1074.15 67.4314 Q1067.83 61.1119 1067.83 50.3365 Q1067.83 39.1965 1073.83 32.6746 Q1079.87 26.1121 1090.07 26.1121 Q1099.23 26.1121 1104.54 32.0264 Q1109.88 37.9003 1109.88 48.0275 M1102.43 45.84 Q1102.35 39.7232 1098.99 36.0774 Q1095.66 32.4315 1090.15 32.4315 Q1083.92 32.4315 1080.15 35.9558 Q1076.42 39.4801 1075.86 45.8805 L1102.43 45.84 Z\" fill=\"#000000\" fill-rule=\"nonzero\" fill-opacity=\"1\" /><path clip-path=\"url(#clip600)\" d=\"M1171.46 9.54393 L1171.46 15.7418 L1164.33 15.7418 Q1160.32 15.7418 1158.74 17.3622 Q1157.2 18.9825 1157.2 23.1955 L1157.2 27.2059 L1169.47 27.2059 L1169.47 32.9987 L1157.2 32.9987 L1157.2 72.576 L1149.7 72.576 L1149.7 32.9987 L1142.57 32.9987 L1142.57 27.2059 L1149.7 27.2059 L1149.7 24.0462 Q1149.7 16.471 1153.23 13.0277 Q1156.75 9.54393 1164.41 9.54393 L1171.46 9.54393 Z\" fill=\"#000000\" fill-rule=\"nonzero\" fill-opacity=\"1\" /><path clip-path=\"url(#clip600)\" d=\"M1195.28 32.4315 Q1189.28 32.4315 1185.8 37.1306 Q1182.31 41.7891 1182.31 49.9314 Q1182.31 58.0738 1185.76 62.7728 Q1189.24 67.4314 1195.28 67.4314 Q1201.23 67.4314 1204.71 62.7323 Q1208.2 58.0333 1208.2 49.9314 Q1208.2 41.8701 1204.71 37.1711 Q1201.23 32.4315 1195.28 32.4315 M1195.28 26.1121 Q1205 26.1121 1210.55 32.4315 Q1216.1 38.7509 1216.1 49.9314 Q1216.1 61.0714 1210.55 67.4314 Q1205 73.7508 1195.28 73.7508 Q1185.51 73.7508 1179.96 67.4314 Q1174.45 61.0714 1174.45 49.9314 Q1174.45 38.7509 1179.96 32.4315 Q1185.51 26.1121 1195.28 26.1121 Z\" fill=\"#000000\" fill-rule=\"nonzero\" fill-opacity=\"1\" /><path clip-path=\"url(#clip600)\" d=\"M1254.74 34.1734 Q1253.49 33.4443 1251.99 33.1202 Q1250.53 32.7556 1248.75 32.7556 Q1242.43 32.7556 1239.03 36.8875 Q1235.66 40.9789 1235.66 48.6757 L1235.66 72.576 L1228.17 72.576 L1228.17 27.2059 L1235.66 27.2059 L1235.66 34.2544 Q1238.01 30.1225 1241.78 28.1376 Q1245.55 26.1121 1250.94 26.1121 Q1251.7 26.1121 1252.64 26.2337 Q1253.57 26.3147 1254.7 26.5172 L1254.74 34.1734 Z\" fill=\"#000000\" fill-rule=\"nonzero\" fill-opacity=\"1\" /><path clip-path=\"url(#clip600)\" d=\"M1326.65 27.2059 L1310.24 49.2833 L1327.5 72.576 L1318.71 72.576 L1305.5 54.752 L1292.29 72.576 L1283.5 72.576 L1301.13 48.8377 L1285 27.2059 L1293.79 27.2059 L1305.82 43.369 L1317.86 27.2059 L1326.65 27.2059 Z\" fill=\"#000000\" fill-rule=\"nonzero\" fill-opacity=\"1\" /><path clip-path=\"url(#clip600)\" d=\"M1396.97 49.9314 Q1396.97 41.7081 1393.57 37.0496 Q1390.21 32.3505 1384.29 32.3505 Q1378.38 32.3505 1374.97 37.0496 Q1371.61 41.7081 1371.61 49.9314 Q1371.61 58.1548 1374.97 62.8538 Q1378.38 67.5124 1384.29 67.5124 Q1390.21 67.5124 1393.57 62.8538 Q1396.97 58.1548 1396.97 49.9314 M1371.61 34.0924 Q1373.96 30.0415 1377.53 28.0971 Q1381.13 26.1121 1386.11 26.1121 Q1394.38 26.1121 1399.52 32.6746 Q1404.71 39.2371 1404.71 49.9314 Q1404.71 60.6258 1399.52 67.1883 Q1394.38 73.7508 1386.11 73.7508 Q1381.13 73.7508 1377.53 71.8063 Q1373.96 69.8214 1371.61 65.7705 L1371.61 72.576 L1364.12 72.576 L1364.12 9.54393 L1371.61 9.54393 L1371.61 34.0924 Z\" fill=\"#000000\" fill-rule=\"nonzero\" fill-opacity=\"1\" /><path clip-path=\"url(#clip600)\" d=\"M1455.87 48.0275 L1455.87 51.6733 L1421.6 51.6733 Q1422.09 59.3701 1426.22 63.421 Q1430.39 67.4314 1437.8 67.4314 Q1442.1 67.4314 1446.11 66.3781 Q1450.16 65.3249 1454.13 63.2184 L1454.13 70.267 Q1450.12 71.9684 1445.91 72.8596 Q1441.69 73.7508 1437.36 73.7508 Q1426.5 73.7508 1420.14 67.4314 Q1413.82 61.1119 1413.82 50.3365 Q1413.82 39.1965 1419.82 32.6746 Q1425.85 26.1121 1436.06 26.1121 Q1445.22 26.1121 1450.52 32.0264 Q1455.87 37.9003 1455.87 48.0275 M1448.42 45.84 Q1448.34 39.7232 1444.97 36.0774 Q1441.65 32.4315 1436.14 32.4315 Q1429.9 32.4315 1426.14 35.9558 Q1422.41 39.4801 1421.84 45.8805 L1448.42 45.84 Z\" fill=\"#000000\" fill-rule=\"nonzero\" fill-opacity=\"1\" /><path clip-path=\"url(#clip600)\" d=\"M1475.48 14.324 L1475.48 27.2059 L1490.83 27.2059 L1490.83 32.9987 L1475.48 32.9987 L1475.48 57.6282 Q1475.48 63.1779 1476.98 64.7578 Q1478.51 66.3376 1483.17 66.3376 L1490.83 66.3376 L1490.83 72.576 L1483.17 72.576 Q1474.55 72.576 1471.26 69.3758 Q1467.98 66.1351 1467.98 57.6282 L1467.98 32.9987 L1462.51 32.9987 L1462.51 27.2059 L1467.98 27.2059 L1467.98 14.324 L1475.48 14.324 Z\" fill=\"#000000\" fill-rule=\"nonzero\" fill-opacity=\"1\" /><path clip-path=\"url(#clip600)\" d=\"M1496.3 27.2059 L1503.75 27.2059 L1513.07 62.6108 L1522.35 27.2059 L1531.14 27.2059 L1540.45 62.6108 L1549.73 27.2059 L1557.18 27.2059 L1545.31 72.576 L1536.52 72.576 L1526.76 35.3887 L1516.96 72.576 L1508.17 72.576 L1496.3 27.2059 Z\" fill=\"#000000\" fill-rule=\"nonzero\" fill-opacity=\"1\" /><path clip-path=\"url(#clip600)\" d=\"M1607.29 48.0275 L1607.29 51.6733 L1573.02 51.6733 Q1573.51 59.3701 1577.64 63.421 Q1581.81 67.4314 1589.23 67.4314 Q1593.52 67.4314 1597.53 66.3781 Q1601.58 65.3249 1605.55 63.2184 L1605.55 70.267 Q1601.54 71.9684 1597.33 72.8596 Q1593.11 73.7508 1588.78 73.7508 Q1577.92 73.7508 1571.56 67.4314 Q1565.24 61.1119 1565.24 50.3365 Q1565.24 39.1965 1571.24 32.6746 Q1577.28 26.1121 1587.48 26.1121 Q1596.64 26.1121 1601.95 32.0264 Q1607.29 37.9003 1607.29 48.0275 M1599.84 45.84 Q1599.76 39.7232 1596.4 36.0774 Q1593.07 32.4315 1587.57 32.4315 Q1581.33 32.4315 1577.56 35.9558 Q1573.83 39.4801 1573.27 45.8805 L1599.84 45.84 Z\" fill=\"#000000\" fill-rule=\"nonzero\" fill-opacity=\"1\" /><path clip-path=\"url(#clip600)\" d=\"M1658.33 48.0275 L1658.33 51.6733 L1624.06 51.6733 Q1624.55 59.3701 1628.68 63.421 Q1632.85 67.4314 1640.27 67.4314 Q1644.56 67.4314 1648.57 66.3781 Q1652.62 65.3249 1656.59 63.2184 L1656.59 70.267 Q1652.58 71.9684 1648.37 72.8596 Q1644.16 73.7508 1639.82 73.7508 Q1628.97 73.7508 1622.61 67.4314 Q1616.29 61.1119 1616.29 50.3365 Q1616.29 39.1965 1622.28 32.6746 Q1628.32 26.1121 1638.53 26.1121 Q1647.68 26.1121 1652.99 32.0264 Q1658.33 37.9003 1658.33 48.0275 M1650.88 45.84 Q1650.8 39.7232 1647.44 36.0774 Q1644.12 32.4315 1638.61 32.4315 Q1632.37 32.4315 1628.6 35.9558 Q1624.87 39.4801 1624.31 45.8805 L1650.88 45.84 Z\" fill=\"#000000\" fill-rule=\"nonzero\" fill-opacity=\"1\" /><path clip-path=\"url(#clip600)\" d=\"M1708.28 45.1919 L1708.28 72.576 L1700.83 72.576 L1700.83 45.4349 Q1700.83 38.994 1698.32 35.7938 Q1695.81 32.5936 1690.78 32.5936 Q1684.75 32.5936 1681.26 36.4419 Q1677.78 40.2903 1677.78 46.9338 L1677.78 72.576 L1670.28 72.576 L1670.28 27.2059 L1677.78 27.2059 L1677.78 34.2544 Q1680.45 30.163 1684.06 28.1376 Q1687.7 26.1121 1692.44 26.1121 Q1700.26 26.1121 1704.27 30.9732 Q1708.28 35.7938 1708.28 45.1919 Z\" fill=\"#000000\" fill-rule=\"nonzero\" fill-opacity=\"1\" /><path clip-path=\"url(#clip600)\" d=\"M1745.75 46.5287 L1767.59 46.5287 L1767.59 53.1722 L1745.75 53.1722 L1745.75 46.5287 Z\" fill=\"#000000\" fill-rule=\"nonzero\" fill-opacity=\"1\" /><path clip-path=\"url(#clip600)\" d=\"M1780.59 12.096 L1812.71 12.096 L1812.71 18.9825 L1788.09 18.9825 L1788.09 33.8088 Q1789.87 33.2012 1791.65 32.9176 Q1793.43 32.5936 1795.21 32.5936 Q1805.34 32.5936 1811.26 38.1433 Q1817.17 43.6931 1817.17 53.1722 Q1817.17 62.9348 1811.09 68.3631 Q1805.02 73.7508 1793.96 73.7508 Q1790.15 73.7508 1786.18 73.1026 Q1782.25 72.4545 1778.04 71.1582 L1778.04 62.9348 Q1781.68 64.9198 1785.57 65.892 Q1789.46 66.8642 1793.8 66.8642 Q1800.8 66.8642 1804.9 63.1779 Q1808.99 59.4916 1808.99 53.1722 Q1808.99 46.8528 1804.9 43.1664 Q1800.8 39.4801 1793.8 39.4801 Q1790.52 39.4801 1787.23 40.2093 Q1783.99 40.9384 1780.59 42.4778 L1780.59 12.096 Z\" fill=\"#000000\" fill-rule=\"nonzero\" fill-opacity=\"1\" /><path clip-path=\"url(#clip600)\" d=\"M1865.98 14.324 L1865.98 27.2059 L1881.34 27.2059 L1881.34 32.9987 L1865.98 32.9987 L1865.98 57.6282 Q1865.98 63.1779 1867.48 64.7578 Q1869.02 66.3376 1873.68 66.3376 L1881.34 66.3376 L1881.34 72.576 L1873.68 72.576 Q1865.05 72.576 1861.77 69.3758 Q1858.49 66.1351 1858.49 57.6282 L1858.49 32.9987 L1853.02 32.9987 L1853.02 27.2059 L1858.49 27.2059 L1858.49 14.324 L1865.98 14.324 Z\" fill=\"#000000\" fill-rule=\"nonzero\" fill-opacity=\"1\" /><path clip-path=\"url(#clip600)\" d=\"M1908.72 32.4315 Q1902.73 32.4315 1899.24 37.1306 Q1895.76 41.7891 1895.76 49.9314 Q1895.76 58.0738 1899.2 62.7728 Q1902.69 67.4314 1908.72 67.4314 Q1914.68 67.4314 1918.16 62.7323 Q1921.64 58.0333 1921.64 49.9314 Q1921.64 41.8701 1918.16 37.1711 Q1914.68 32.4315 1908.72 32.4315 M1908.72 26.1121 Q1918.44 26.1121 1923.99 32.4315 Q1929.54 38.7509 1929.54 49.9314 Q1929.54 61.0714 1923.99 67.4314 Q1918.44 73.7508 1908.72 73.7508 Q1898.96 73.7508 1893.41 67.4314 Q1887.9 61.0714 1887.9 49.9314 Q1887.9 38.7509 1893.41 32.4315 Q1898.96 26.1121 1908.72 26.1121 Z\" fill=\"#000000\" fill-rule=\"nonzero\" fill-opacity=\"1\" /><path clip-path=\"url(#clip600)\" d=\"M1969.4 12.096 L2001.53 12.096 L2001.53 18.9825 L1976.9 18.9825 L1976.9 33.8088 Q1978.68 33.2012 1980.46 32.9176 Q1982.24 32.5936 1984.03 32.5936 Q1994.15 32.5936 2000.07 38.1433 Q2005.98 43.6931 2005.98 53.1722 Q2005.98 62.9348 1999.91 68.3631 Q1993.83 73.7508 1982.77 73.7508 Q1978.96 73.7508 1974.99 73.1026 Q1971.06 72.4545 1966.85 71.1582 L1966.85 62.9348 Q1970.5 64.9198 1974.39 65.892 Q1978.27 66.8642 1982.61 66.8642 Q1989.62 66.8642 1993.71 63.1779 Q1997.8 59.4916 1997.8 53.1722 Q1997.8 46.8528 1993.71 43.1664 Q1989.62 39.4801 1982.61 39.4801 Q1979.33 39.4801 1976.05 40.2093 Q1972.81 40.9384 1969.4 42.4778 L1969.4 12.096 Z\" fill=\"#000000\" fill-rule=\"nonzero\" fill-opacity=\"1\" /><polyline clip-path=\"url(#clip602)\" style=\"stroke:#009af9; stroke-linecap:round; stroke-linejoin:round; stroke-width:4; stroke-opacity:1; fill:none\" points=\"264.778,160.256 467.495,601.666 670.211,944.985 872.927,1190.21 1075.64,1337.35 1278.36,1386.4 1481.08,1337.35 1683.79,1190.21 1886.51,944.985 2089.22,601.666 2291.94,160.256 \"/>\n",
       "<circle clip-path=\"url(#clip602)\" cx=\"264.778\" cy=\"160.256\" r=\"14.4\" fill=\"#009af9\" fill-rule=\"evenodd\" fill-opacity=\"1\" stroke=\"#000000\" stroke-opacity=\"1\" stroke-width=\"3.2\"/>\n",
       "<circle clip-path=\"url(#clip602)\" cx=\"467.495\" cy=\"601.666\" r=\"14.4\" fill=\"#009af9\" fill-rule=\"evenodd\" fill-opacity=\"1\" stroke=\"#000000\" stroke-opacity=\"1\" stroke-width=\"3.2\"/>\n",
       "<circle clip-path=\"url(#clip602)\" cx=\"670.211\" cy=\"944.985\" r=\"14.4\" fill=\"#009af9\" fill-rule=\"evenodd\" fill-opacity=\"1\" stroke=\"#000000\" stroke-opacity=\"1\" stroke-width=\"3.2\"/>\n",
       "<circle clip-path=\"url(#clip602)\" cx=\"872.927\" cy=\"1190.21\" r=\"14.4\" fill=\"#009af9\" fill-rule=\"evenodd\" fill-opacity=\"1\" stroke=\"#000000\" stroke-opacity=\"1\" stroke-width=\"3.2\"/>\n",
       "<circle clip-path=\"url(#clip602)\" cx=\"1075.64\" cy=\"1337.35\" r=\"14.4\" fill=\"#009af9\" fill-rule=\"evenodd\" fill-opacity=\"1\" stroke=\"#000000\" stroke-opacity=\"1\" stroke-width=\"3.2\"/>\n",
       "<circle clip-path=\"url(#clip602)\" cx=\"1278.36\" cy=\"1386.4\" r=\"14.4\" fill=\"#009af9\" fill-rule=\"evenodd\" fill-opacity=\"1\" stroke=\"#000000\" stroke-opacity=\"1\" stroke-width=\"3.2\"/>\n",
       "<circle clip-path=\"url(#clip602)\" cx=\"1481.08\" cy=\"1337.35\" r=\"14.4\" fill=\"#009af9\" fill-rule=\"evenodd\" fill-opacity=\"1\" stroke=\"#000000\" stroke-opacity=\"1\" stroke-width=\"3.2\"/>\n",
       "<circle clip-path=\"url(#clip602)\" cx=\"1683.79\" cy=\"1190.21\" r=\"14.4\" fill=\"#009af9\" fill-rule=\"evenodd\" fill-opacity=\"1\" stroke=\"#000000\" stroke-opacity=\"1\" stroke-width=\"3.2\"/>\n",
       "<circle clip-path=\"url(#clip602)\" cx=\"1886.51\" cy=\"944.985\" r=\"14.4\" fill=\"#009af9\" fill-rule=\"evenodd\" fill-opacity=\"1\" stroke=\"#000000\" stroke-opacity=\"1\" stroke-width=\"3.2\"/>\n",
       "<circle clip-path=\"url(#clip602)\" cx=\"2089.22\" cy=\"601.666\" r=\"14.4\" fill=\"#009af9\" fill-rule=\"evenodd\" fill-opacity=\"1\" stroke=\"#000000\" stroke-opacity=\"1\" stroke-width=\"3.2\"/>\n",
       "<circle clip-path=\"url(#clip602)\" cx=\"2291.94\" cy=\"160.256\" r=\"14.4\" fill=\"#009af9\" fill-rule=\"evenodd\" fill-opacity=\"1\" stroke=\"#000000\" stroke-opacity=\"1\" stroke-width=\"3.2\"/>\n",
       "</svg>\n"
      ]
     },
     "metadata": {},
     "output_type": "display_data"
    }
   ],
   "source": [
    "\n",
    "x_values = -5:5\n",
    "\n",
    "y_values = [sq(x) for x in x_values]\n",
    "\n",
    "plot(x_values, y_values, \n",
    "    xlabel=\"x\", ylabel=\"y\", \n",
    "    title=\"Plot of square for x between -5 to 5\", \n",
    "    legend=false, \n",
    "    marker=:circle, \n",
    "    line=:solid)\n"
   ]
  },
  {
   "cell_type": "markdown",
   "id": "eaca6031-e691-4019-9986-e7127b3df842",
   "metadata": {},
   "source": [
    "## Commit and Push Your Changes to GitHub\n",
    "\n",
    "After completing the previous two exercises, commit your solution file\n",
    "(notebook or otherwise) and push to GitHub. Use an informative commit\n",
    "message which makes it clear what changes you’ve made. The specific\n",
    "workflow for this will vary depending on how you’re writing up your\n",
    "solutions; please search for specifics and ask for help as needed!\n",
    "\n",
    "> **Useful Commit Sizes**\n",
    ">\n",
    "> Ideally, you’d commit whenever you make a “substantial” enough change\n",
    "> that you want to lock in, such as writing the core code for a problem\n",
    "> or completing a problem, if you’re preparing code to be used elsewhere\n",
    "> (by yourself or others), or if you want to ask for help. `git` lets\n",
    "> you revert changes back to a previous commit, so it’s easy to undo\n",
    "> changes or updates which broke something that was previously working,\n",
    "> so changing too many things at once can make it hard to keep track of\n",
    "> what worked when.\n",
    ">\n",
    "> But in this case, go ahead and just commit after finishing the\n",
    "> problems.\n",
    "\n",
    "Push the repository with these commits to GitHub and take a screenshot\n",
    "of the repository page\n",
    "(`https://github.com/BEE4750-FA24/<username>/lab01`) which shows the\n",
    "updated repository. Include that screenshot in your submission as the\n",
    "solution to this problem.\n",
    "\n",
    "## Submitting PDF\n",
    "\n",
    "> **Important**\n",
    ">\n",
    "> These submission instructions will not be repeated on future\n",
    "> assignments!\n",
    "\n",
    "Export your writeup as a PDF and submit it to the “Lab 1” assignment on\n",
    "Gradescope. Make sure that you tag pages corresponding to relevant\n",
    "problems to avoid a 10% penalty.\n",
    "\n",
    "> **Printing Code to PDF**\n",
    ">\n",
    "> You are not required to submit your code when submitting assignments.\n",
    "> However, when printing a notebook to PDF, long lines will run off the\n",
    "> edge of code cells, which may result in comments or code being hidden.\n",
    "> If you see this, go back to the notebook and break up long lines into\n",
    "> shorter onces (for example, see the comment in the above code cell) to\n",
    "> ensure key parts of your results aren’t missing."
   ]
  }
 ],
 "metadata": {
  "kernel_info": {
   "name": "julia"
  },
  "kernelspec": {
   "display_name": "Julia 1.10.4",
   "language": "julia",
   "name": "julia-1.10"
  },
  "language_info": {
   "file_extension": ".jl",
   "mimetype": "application/julia",
   "name": "julia",
   "version": "1.10.4"
  }
 },
 "nbformat": 4,
 "nbformat_minor": 5
}
